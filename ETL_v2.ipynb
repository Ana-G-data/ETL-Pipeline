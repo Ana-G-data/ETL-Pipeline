{
 "cells": [
  {
   "cell_type": "code",
   "execution_count": 1,
   "metadata": {},
   "outputs": [
    {
     "name": "stderr",
     "output_type": "stream",
     "text": [
      "c:\\Users\\smico\\anaconda3\\envs\\iron\\lib\\site-packages\\fuzzywuzzy\\fuzz.py:11: UserWarning: Using slow pure-python SequenceMatcher. Install python-Levenshtein to remove this warning\n",
      "  warnings.warn('Using slow pure-python SequenceMatcher. Install python-Levenshtein to remove this warning')\n"
     ]
    }
   ],
   "source": [
    "\n",
    "import sys\n",
    "import sys\n",
    "sys.path.append(\"../\")\n",
    "import src.soporte as sp\n",
    "from geopy.geocoders import Nominatim\n",
    "\n",
    "geolocator = Nominatim(user_agent=\"geoapiExercises\")\n",
    "from tqdm import tqdm\n",
    "import pandas as pd\n",
    "import numpy as np\n",
    "import seaborn as sns\n",
    "import matplotlib.pyplot as plt\n",
    "from datetime import datetime, date\n",
    "import re\n",
    "pd.options.display.max_columns = None"
   ]
  },
  {
   "cell_type": "code",
   "execution_count": 2,
   "metadata": {},
   "outputs": [
    {
     "data": {
      "text/html": [
       "<div>\n",
       "<style scoped>\n",
       "    .dataframe tbody tr th:only-of-type {\n",
       "        vertical-align: middle;\n",
       "    }\n",
       "\n",
       "    .dataframe tbody tr th {\n",
       "        vertical-align: top;\n",
       "    }\n",
       "\n",
       "    .dataframe thead th {\n",
       "        text-align: right;\n",
       "    }\n",
       "</style>\n",
       "<table border=\"1\" class=\"dataframe\">\n",
       "  <thead>\n",
       "    <tr style=\"text-align: right;\">\n",
       "      <th></th>\n",
       "      <th>Name</th>\n",
       "      <th>Course</th>\n",
       "      <th>Anglo Status</th>\n",
       "      <th>Date Modified</th>\n",
       "      <th>Age</th>\n",
       "      <th>Birth Date</th>\n",
       "      <th>Veteran</th>\n",
       "      <th>Gender</th>\n",
       "      <th>Nationality</th>\n",
       "      <th>Request Status</th>\n",
       "      <th>Date Modified.1</th>\n",
       "      <th>Arrival Medium</th>\n",
       "      <th>Arrival Company</th>\n",
       "      <th>Arrival Number</th>\n",
       "      <th>Travel_Alone</th>\n",
       "    </tr>\n",
       "  </thead>\n",
       "  <tbody>\n",
       "    <tr>\n",
       "      <th>0</th>\n",
       "      <td>Andrew Thomas</td>\n",
       "      <td>Zujar TEENS - 2 weeks - June/30/2019 to July/1...</td>\n",
       "      <td>Bad feedback</td>\n",
       "      <td>26/01/2022 13:21</td>\n",
       "      <td>20.0</td>\n",
       "      <td>NaN</td>\n",
       "      <td>Yes</td>\n",
       "      <td>Male</td>\n",
       "      <td>IRELAND</td>\n",
       "      <td>Cleared</td>\n",
       "      <td>27/02/2019 14:35</td>\n",
       "      <td>NaN</td>\n",
       "      <td>NaN</td>\n",
       "      <td>NaN</td>\n",
       "      <td>No</td>\n",
       "    </tr>\n",
       "    <tr>\n",
       "      <th>1</th>\n",
       "      <td>Emily Harmon</td>\n",
       "      <td>Zujar TEENS - 2 weeks - June/30/2019 to July/1...</td>\n",
       "      <td>Approved</td>\n",
       "      <td>02/12/2019 10:21</td>\n",
       "      <td>21.0</td>\n",
       "      <td>NaN</td>\n",
       "      <td>Yes</td>\n",
       "      <td>Female</td>\n",
       "      <td>UNITED KINGDOM</td>\n",
       "      <td>Cleared</td>\n",
       "      <td>20/03/2019 12:47</td>\n",
       "      <td>NaN</td>\n",
       "      <td>NaN</td>\n",
       "      <td>NaN</td>\n",
       "      <td>No</td>\n",
       "    </tr>\n",
       "    <tr>\n",
       "      <th>2</th>\n",
       "      <td>Norma Nelson</td>\n",
       "      <td>Zujar TEENS - 2 weeks - June/30/2019 to July/1...</td>\n",
       "      <td>Approved</td>\n",
       "      <td>12/05/2021 12:02</td>\n",
       "      <td>20.0</td>\n",
       "      <td>NaN</td>\n",
       "      <td>Yes</td>\n",
       "      <td>Female</td>\n",
       "      <td>CANADA</td>\n",
       "      <td>Veteran</td>\n",
       "      <td>22/05/2019 18:18</td>\n",
       "      <td>NaN</td>\n",
       "      <td>NaN</td>\n",
       "      <td>NaN</td>\n",
       "      <td>No</td>\n",
       "    </tr>\n",
       "    <tr>\n",
       "      <th>3</th>\n",
       "      <td>Sandra Gonzales</td>\n",
       "      <td>Zujar TEENS - 2 weeks - July/2/2017 to July/15...</td>\n",
       "      <td>Approved</td>\n",
       "      <td>09/03/2022 12:19</td>\n",
       "      <td>21.0</td>\n",
       "      <td>NaN</td>\n",
       "      <td>Yes</td>\n",
       "      <td>Female</td>\n",
       "      <td>IRELAND</td>\n",
       "      <td>Cleared</td>\n",
       "      <td>11/05/2017 14:43</td>\n",
       "      <td>NaN</td>\n",
       "      <td>NaN</td>\n",
       "      <td>NaN</td>\n",
       "      <td>No</td>\n",
       "    </tr>\n",
       "    <tr>\n",
       "      <th>4</th>\n",
       "      <td>Annette Robinson</td>\n",
       "      <td>Zujar TEENS - 2 weeks - July/2/2017 to July/15...</td>\n",
       "      <td>Approved</td>\n",
       "      <td>22/06/2021 23:03</td>\n",
       "      <td>23.0</td>\n",
       "      <td>NaN</td>\n",
       "      <td>Yes</td>\n",
       "      <td>Female</td>\n",
       "      <td>USA</td>\n",
       "      <td>Cleared</td>\n",
       "      <td>24/04/2017 14:05</td>\n",
       "      <td>NaN</td>\n",
       "      <td>NaN</td>\n",
       "      <td>NaN</td>\n",
       "      <td>No</td>\n",
       "    </tr>\n",
       "  </tbody>\n",
       "</table>\n",
       "</div>"
      ],
      "text/plain": [
       "               Name                                             Course  \\\n",
       "0     Andrew Thomas  Zujar TEENS - 2 weeks - June/30/2019 to July/1...   \n",
       "1      Emily Harmon  Zujar TEENS - 2 weeks - June/30/2019 to July/1...   \n",
       "2      Norma Nelson  Zujar TEENS - 2 weeks - June/30/2019 to July/1...   \n",
       "3   Sandra Gonzales  Zujar TEENS - 2 weeks - July/2/2017 to July/15...   \n",
       "4  Annette Robinson  Zujar TEENS - 2 weeks - July/2/2017 to July/15...   \n",
       "\n",
       "   Anglo Status     Date Modified   Age Birth Date Veteran  Gender  \\\n",
       "0  Bad feedback  26/01/2022 13:21  20.0        NaN     Yes    Male   \n",
       "1      Approved  02/12/2019 10:21  21.0        NaN     Yes  Female   \n",
       "2      Approved  12/05/2021 12:02  20.0        NaN     Yes  Female   \n",
       "3      Approved  09/03/2022 12:19  21.0        NaN     Yes  Female   \n",
       "4      Approved  22/06/2021 23:03  23.0        NaN     Yes  Female   \n",
       "\n",
       "     Nationality  Request Status   Date Modified.1 Arrival Medium  \\\n",
       "0         IRELAND        Cleared  27/02/2019 14:35            NaN   \n",
       "1  UNITED KINGDOM        Cleared  20/03/2019 12:47            NaN   \n",
       "2          CANADA        Veteran  22/05/2019 18:18            NaN   \n",
       "3         IRELAND        Cleared  11/05/2017 14:43            NaN   \n",
       "4             USA        Cleared  24/04/2017 14:05            NaN   \n",
       "\n",
       "  Arrival Company Arrival Number Travel_Alone  \n",
       "0             NaN            NaN           No  \n",
       "1             NaN            NaN           No  \n",
       "2             NaN            NaN           No  \n",
       "3             NaN            NaN           No  \n",
       "4             NaN            NaN           No  "
      ]
     },
     "execution_count": 2,
     "metadata": {},
     "output_type": "execute_result"
    }
   ],
   "source": [
    "df = pd.read_csv('datos/volunteers_1v.csv', low_memory=False)\n",
    "#Utilizamos low memory=False ya que al leerlo me daba un error porque en algunas columnas tienen diferentes tipos de datos, habrá que echarle un vistazo\n",
    "df.head(5)"
   ]
  },
  {
   "cell_type": "code",
   "execution_count": 3,
   "metadata": {},
   "outputs": [
    {
     "name": "stdout",
     "output_type": "stream",
     "text": [
      "Index(['Name', 'Course', 'Anglo Status', 'Date Modified', 'Age', 'Birth Date',\n",
      "       'Veteran', 'Gender', 'Nationality ', 'Request Status',\n",
      "       'Date Modified.1', 'Arrival Medium', 'Arrival Company',\n",
      "       'Arrival Number', 'Travel_Alone'],\n",
      "      dtype='object')\n"
     ]
    }
   ],
   "source": [
    "print(df.columns)"
   ]
  },
  {
   "cell_type": "code",
   "execution_count": 4,
   "metadata": {},
   "outputs": [
    {
     "data": {
      "text/html": [
       "<div>\n",
       "<style scoped>\n",
       "    .dataframe tbody tr th:only-of-type {\n",
       "        vertical-align: middle;\n",
       "    }\n",
       "\n",
       "    .dataframe tbody tr th {\n",
       "        vertical-align: top;\n",
       "    }\n",
       "\n",
       "    .dataframe thead th {\n",
       "        text-align: right;\n",
       "    }\n",
       "</style>\n",
       "<table border=\"1\" class=\"dataframe\">\n",
       "  <thead>\n",
       "    <tr style=\"text-align: right;\">\n",
       "      <th></th>\n",
       "      <th>Name</th>\n",
       "      <th>Course</th>\n",
       "      <th>Anglo_Status</th>\n",
       "      <th>Date_Modified</th>\n",
       "      <th>Age</th>\n",
       "      <th>Birth_Date</th>\n",
       "      <th>Veteran</th>\n",
       "      <th>Gender</th>\n",
       "      <th>Nationality</th>\n",
       "      <th>Request_Status</th>\n",
       "      <th>Date_Modified.1</th>\n",
       "      <th>Arrival_Medium</th>\n",
       "      <th>Arrival_Company</th>\n",
       "      <th>Arrival_Number</th>\n",
       "      <th>Travel_Alone</th>\n",
       "    </tr>\n",
       "  </thead>\n",
       "  <tbody>\n",
       "    <tr>\n",
       "      <th>0</th>\n",
       "      <td>Andrew Thomas</td>\n",
       "      <td>Zujar TEENS - 2 weeks - June/30/2019 to July/1...</td>\n",
       "      <td>Bad feedback</td>\n",
       "      <td>26/01/2022 13:21</td>\n",
       "      <td>20.0</td>\n",
       "      <td>NaN</td>\n",
       "      <td>Yes</td>\n",
       "      <td>Male</td>\n",
       "      <td>IRELAND</td>\n",
       "      <td>Cleared</td>\n",
       "      <td>27/02/2019 14:35</td>\n",
       "      <td>NaN</td>\n",
       "      <td>NaN</td>\n",
       "      <td>NaN</td>\n",
       "      <td>No</td>\n",
       "    </tr>\n",
       "    <tr>\n",
       "      <th>1</th>\n",
       "      <td>Emily Harmon</td>\n",
       "      <td>Zujar TEENS - 2 weeks - June/30/2019 to July/1...</td>\n",
       "      <td>Approved</td>\n",
       "      <td>02/12/2019 10:21</td>\n",
       "      <td>21.0</td>\n",
       "      <td>NaN</td>\n",
       "      <td>Yes</td>\n",
       "      <td>Female</td>\n",
       "      <td>UNITED KINGDOM</td>\n",
       "      <td>Cleared</td>\n",
       "      <td>20/03/2019 12:47</td>\n",
       "      <td>NaN</td>\n",
       "      <td>NaN</td>\n",
       "      <td>NaN</td>\n",
       "      <td>No</td>\n",
       "    </tr>\n",
       "  </tbody>\n",
       "</table>\n",
       "</div>"
      ],
      "text/plain": [
       "            Name                                             Course  \\\n",
       "0  Andrew Thomas  Zujar TEENS - 2 weeks - June/30/2019 to July/1...   \n",
       "1   Emily Harmon  Zujar TEENS - 2 weeks - June/30/2019 to July/1...   \n",
       "\n",
       "   Anglo_Status     Date_Modified   Age Birth_Date Veteran  Gender  \\\n",
       "0  Bad feedback  26/01/2022 13:21  20.0        NaN     Yes    Male   \n",
       "1      Approved  02/12/2019 10:21  21.0        NaN     Yes  Female   \n",
       "\n",
       "      Nationality Request_Status   Date_Modified.1 Arrival_Medium  \\\n",
       "0         IRELAND        Cleared  27/02/2019 14:35            NaN   \n",
       "1  UNITED KINGDOM        Cleared  20/03/2019 12:47            NaN   \n",
       "\n",
       "  Arrival_Company Arrival_Number Travel_Alone  \n",
       "0             NaN            NaN           No  \n",
       "1             NaN            NaN           No  "
      ]
     },
     "execution_count": 4,
     "metadata": {},
     "output_type": "execute_result"
    }
   ],
   "source": [
    "# Reemplaza los espacios por subrayados en los nombres de las columnas\n",
    "df.columns= df.columns.str.lstrip()\n",
    "df.columns= df.columns.str.rstrip()\n",
    "df.columns = df.columns.str.replace(\" \", \"_\")\n",
    "df.head(2)"
   ]
  },
  {
   "cell_type": "code",
   "execution_count": 5,
   "metadata": {},
   "outputs": [
    {
     "data": {
      "text/plain": [
       "(91108, 15)"
      ]
     },
     "execution_count": 5,
     "metadata": {},
     "output_type": "execute_result"
    }
   ],
   "source": [
    "df.shape"
   ]
  },
  {
   "cell_type": "code",
   "execution_count": 6,
   "metadata": {},
   "outputs": [
    {
     "data": {
      "text/plain": [
       "Name                   0\n",
       "Course                 0\n",
       "Anglo_Status         744\n",
       "Date_Modified        742\n",
       "Age                  742\n",
       "Birth_Date         90366\n",
       "Veteran             4496\n",
       "Gender                 0\n",
       "Nationality            0\n",
       "Request_Status       742\n",
       "Date_Modified.1      742\n",
       "Arrival_Medium     90927\n",
       "Arrival_Company    90928\n",
       "Arrival_Number     90995\n",
       "Travel_Alone           0\n",
       "dtype: int64"
      ]
     },
     "execution_count": 6,
     "metadata": {},
     "output_type": "execute_result"
    }
   ],
   "source": [
    "df.isnull().sum()"
   ]
  },
  {
   "cell_type": "code",
   "execution_count": 7,
   "metadata": {},
   "outputs": [],
   "source": [
    "#cambiamos los nulos de Anglo_Status a TBC y Veterano a \"no\"\n",
    "df[\"Anglo_Status\"].fillna(\"TBC\", inplace=True)\n",
    "df['Veteran'].fillna(\"No\",inplace=True)\n"
   ]
  },
  {
   "cell_type": "code",
   "execution_count": 8,
   "metadata": {},
   "outputs": [
    {
     "name": "stdout",
     "output_type": "stream",
     "text": [
      "Tenemos 90366    4\n",
      "90367    4\n",
      "90368    4\n",
      "90369    4\n",
      "90370    4\n",
      "        ..\n",
      "91103    4\n",
      "91104    4\n",
      "91105    4\n",
      "91106    4\n",
      "91107    4\n",
      "Length: 742, dtype: int64 filas que tienen 4 nulos, por lo cual es cierto que todos los nulos se situan en las mismas filas\n"
     ]
    }
   ],
   "source": [
    "#Queremos comprobar si todos los nulos de determinadas columnas están en las mismas filas\n",
    "df_comparativa_nulos=df[['Date_Modified','Age','Request_Status','Date_Modified.1']]\n",
    "#sumamos los nulos por filas, axis=1\n",
    "filas_na = df_comparativa_nulos[['Date_Modified', 'Age', 'Request_Status','Date_Modified.1']].isnull().sum(axis=1)\n",
    "#creamos una nueva variable que almacena las filas que cumplen con la condicion de que el numero de nulos por fila sea 4\n",
    "coincide = filas_na[filas_na == 4]\n",
    "print(f'Tenemos {coincide} filas que tienen 4 nulos, por lo cual es cierto que todos los nulos se situan en las mismas filas')"
   ]
  },
  {
   "cell_type": "code",
   "execution_count": 9,
   "metadata": {},
   "outputs": [
    {
     "name": "stdout",
     "output_type": "stream",
     "text": [
      "El porcentaje de valores nulos en la columna 'Date_Modified' es: 0.81%\n",
      "El porcentaje de valores nulos en la columna 'Age' es: 0.81%\n",
      "El porcentaje de valores nulos en la columna 'Request_Status' es: 0.81%\n",
      "El porcentaje de valores nulos en la columna 'Date_Modified.1' es: 0.81%\n"
     ]
    }
   ],
   "source": [
    "#Calculamos el porcentaje que representan los nulos\n",
    "columnas_nulos = ['Date_Modified', 'Age', 'Request_Status', 'Date_Modified.1']\n",
    "for col in columnas_nulos:\n",
    "    porcentaje = round((df[col].isnull().sum() / df.shape[0]) * 100, 2)\n",
    "    print(f\"El porcentaje de valores nulos en la columna '{col}' es: {porcentaje}%\")"
   ]
  },
  {
   "cell_type": "code",
   "execution_count": 10,
   "metadata": {},
   "outputs": [
    {
     "name": "stdout",
     "output_type": "stream",
     "text": [
      "La diferencia entre el dataframe anterior y el nuevo es de 742, que es el número de nulos que teniamos en las columnas analizadas\n"
     ]
    }
   ],
   "source": [
    "#Eliminamos los nulos, pero lo almacenamos en un nuevo dataframe para mantener el dataframe original\n",
    "df2=df.dropna(subset='Date_Modified')\n",
    "nulos=df.shape[0]-df2.shape[0]\n",
    "print(f'La diferencia entre el dataframe anterior y el nuevo es de {nulos}, que es el número de nulos que teniamos en las columnas analizadas')\n"
   ]
  },
  {
   "cell_type": "code",
   "execution_count": 11,
   "metadata": {},
   "outputs": [
    {
     "data": {
      "text/html": [
       "<div>\n",
       "<style scoped>\n",
       "    .dataframe tbody tr th:only-of-type {\n",
       "        vertical-align: middle;\n",
       "    }\n",
       "\n",
       "    .dataframe tbody tr th {\n",
       "        vertical-align: top;\n",
       "    }\n",
       "\n",
       "    .dataframe thead th {\n",
       "        text-align: right;\n",
       "    }\n",
       "</style>\n",
       "<table border=\"1\" class=\"dataframe\">\n",
       "  <thead>\n",
       "    <tr style=\"text-align: right;\">\n",
       "      <th></th>\n",
       "      <th>Name</th>\n",
       "      <th>Course</th>\n",
       "      <th>Anglo_Status</th>\n",
       "      <th>Date_Modified</th>\n",
       "      <th>Age</th>\n",
       "      <th>Birth_Date</th>\n",
       "      <th>Veteran</th>\n",
       "      <th>Gender</th>\n",
       "      <th>Nationality</th>\n",
       "      <th>Request_Status</th>\n",
       "      <th>Date_Modified.1</th>\n",
       "      <th>Arrival_Medium</th>\n",
       "      <th>Arrival_Company</th>\n",
       "      <th>Arrival_Number</th>\n",
       "      <th>Travel_Alone</th>\n",
       "    </tr>\n",
       "  </thead>\n",
       "  <tbody>\n",
       "    <tr>\n",
       "      <th>90367</th>\n",
       "      <td>David Blevins</td>\n",
       "      <td>La Alberca TEENS-VOLUNTEER 2 WEEKS from 07/02/...</td>\n",
       "      <td>TBC</td>\n",
       "      <td>NaN</td>\n",
       "      <td>NaN</td>\n",
       "      <td>17/06/2004</td>\n",
       "      <td>Yes</td>\n",
       "      <td>Male</td>\n",
       "      <td>USA</td>\n",
       "      <td>NaN</td>\n",
       "      <td>NaN</td>\n",
       "      <td>Plane</td>\n",
       "      <td>Delta Airlines</td>\n",
       "      <td>DL126</td>\n",
       "      <td>No</td>\n",
       "    </tr>\n",
       "    <tr>\n",
       "      <th>90373</th>\n",
       "      <td>Ann Bowman</td>\n",
       "      <td>La Alberca TEENS-VOLUNTEER 2 WEEKS from 07/09/...</td>\n",
       "      <td>TBC</td>\n",
       "      <td>NaN</td>\n",
       "      <td>NaN</td>\n",
       "      <td>10/10/2006</td>\n",
       "      <td>Yes</td>\n",
       "      <td>Female</td>\n",
       "      <td>USA</td>\n",
       "      <td>NaN</td>\n",
       "      <td>NaN</td>\n",
       "      <td>Plane</td>\n",
       "      <td>American Airlines</td>\n",
       "      <td>AA94</td>\n",
       "      <td>No</td>\n",
       "    </tr>\n",
       "  </tbody>\n",
       "</table>\n",
       "</div>"
      ],
      "text/plain": [
       "                Name                                             Course  \\\n",
       "90367  David Blevins  La Alberca TEENS-VOLUNTEER 2 WEEKS from 07/02/...   \n",
       "90373     Ann Bowman  La Alberca TEENS-VOLUNTEER 2 WEEKS from 07/09/...   \n",
       "\n",
       "      Anglo_Status Date_Modified  Age  Birth_Date Veteran  Gender Nationality  \\\n",
       "90367          TBC           NaN  NaN  17/06/2004     Yes    Male         USA   \n",
       "90373          TBC           NaN  NaN  10/10/2006     Yes  Female         USA   \n",
       "\n",
       "      Request_Status Date_Modified.1 Arrival_Medium    Arrival_Company  \\\n",
       "90367            NaN             NaN          Plane     Delta Airlines   \n",
       "90373            NaN             NaN          Plane  American Airlines   \n",
       "\n",
       "      Arrival_Number Travel_Alone  \n",
       "90367          DL126           No  \n",
       "90373           AA94           No  "
      ]
     },
     "execution_count": 11,
     "metadata": {},
     "output_type": "execute_result"
    }
   ],
   "source": [
    "#Creamos un nuevo dataframe con aquellos datos de llegada\n",
    "df_arrivals=df[df['Arrival_Number'].isnull() == False]\n",
    "df_arrivals.head(2)"
   ]
  },
  {
   "cell_type": "code",
   "execution_count": 12,
   "metadata": {},
   "outputs": [
    {
     "name": "stderr",
     "output_type": "stream",
     "text": [
      "C:\\Users\\smico\\AppData\\Local\\Temp\\ipykernel_16428\\361397941.py:2: SettingWithCopyWarning: \n",
      "A value is trying to be set on a copy of a slice from a DataFrame\n",
      "\n",
      "See the caveats in the documentation: https://pandas.pydata.org/pandas-docs/stable/user_guide/indexing.html#returning-a-view-versus-a-copy\n",
      "  df2.drop(['Arrival_Medium','Arrival_Company','Arrival_Number','Birth_Date'],axis=1,inplace=True)\n"
     ]
    },
    {
     "data": {
      "text/html": [
       "<div>\n",
       "<style scoped>\n",
       "    .dataframe tbody tr th:only-of-type {\n",
       "        vertical-align: middle;\n",
       "    }\n",
       "\n",
       "    .dataframe tbody tr th {\n",
       "        vertical-align: top;\n",
       "    }\n",
       "\n",
       "    .dataframe thead th {\n",
       "        text-align: right;\n",
       "    }\n",
       "</style>\n",
       "<table border=\"1\" class=\"dataframe\">\n",
       "  <thead>\n",
       "    <tr style=\"text-align: right;\">\n",
       "      <th></th>\n",
       "      <th>Name</th>\n",
       "      <th>Course</th>\n",
       "      <th>Anglo_Status</th>\n",
       "      <th>Date_Modified</th>\n",
       "      <th>Age</th>\n",
       "      <th>Veteran</th>\n",
       "      <th>Gender</th>\n",
       "      <th>Nationality</th>\n",
       "      <th>Request_Status</th>\n",
       "      <th>Date_Modified.1</th>\n",
       "      <th>Travel_Alone</th>\n",
       "    </tr>\n",
       "  </thead>\n",
       "  <tbody>\n",
       "    <tr>\n",
       "      <th>0</th>\n",
       "      <td>Andrew Thomas</td>\n",
       "      <td>Zujar TEENS - 2 weeks - June/30/2019 to July/1...</td>\n",
       "      <td>Bad feedback</td>\n",
       "      <td>26/01/2022 13:21</td>\n",
       "      <td>20.0</td>\n",
       "      <td>Yes</td>\n",
       "      <td>Male</td>\n",
       "      <td>IRELAND</td>\n",
       "      <td>Cleared</td>\n",
       "      <td>27/02/2019 14:35</td>\n",
       "      <td>No</td>\n",
       "    </tr>\n",
       "    <tr>\n",
       "      <th>1</th>\n",
       "      <td>Emily Harmon</td>\n",
       "      <td>Zujar TEENS - 2 weeks - June/30/2019 to July/1...</td>\n",
       "      <td>Approved</td>\n",
       "      <td>02/12/2019 10:21</td>\n",
       "      <td>21.0</td>\n",
       "      <td>Yes</td>\n",
       "      <td>Female</td>\n",
       "      <td>UNITED KINGDOM</td>\n",
       "      <td>Cleared</td>\n",
       "      <td>20/03/2019 12:47</td>\n",
       "      <td>No</td>\n",
       "    </tr>\n",
       "  </tbody>\n",
       "</table>\n",
       "</div>"
      ],
      "text/plain": [
       "            Name                                             Course  \\\n",
       "0  Andrew Thomas  Zujar TEENS - 2 weeks - June/30/2019 to July/1...   \n",
       "1   Emily Harmon  Zujar TEENS - 2 weeks - June/30/2019 to July/1...   \n",
       "\n",
       "   Anglo_Status     Date_Modified   Age Veteran  Gender     Nationality  \\\n",
       "0  Bad feedback  26/01/2022 13:21  20.0     Yes    Male         IRELAND   \n",
       "1      Approved  02/12/2019 10:21  21.0     Yes  Female  UNITED KINGDOM   \n",
       "\n",
       "  Request_Status   Date_Modified.1 Travel_Alone  \n",
       "0        Cleared  27/02/2019 14:35           No  \n",
       "1        Cleared  20/03/2019 12:47           No  "
      ]
     },
     "execution_count": 12,
     "metadata": {},
     "output_type": "execute_result"
    }
   ],
   "source": [
    "#Eliminamos las columnas que tienen mayría de nulos para que el dataframe quede más legible\n",
    "df2.drop(['Arrival_Medium','Arrival_Company','Arrival_Number','Birth_Date'],axis=1,inplace=True)\n",
    "df2.head(2)"
   ]
  },
  {
   "cell_type": "code",
   "execution_count": 13,
   "metadata": {},
   "outputs": [
    {
     "data": {
      "text/plain": [
       "Name               0\n",
       "Course             0\n",
       "Anglo_Status       0\n",
       "Date_Modified      0\n",
       "Age                0\n",
       "Veteran            0\n",
       "Gender             0\n",
       "Nationality        0\n",
       "Request_Status     0\n",
       "Date_Modified.1    0\n",
       "Travel_Alone       0\n",
       "dtype: int64"
      ]
     },
     "execution_count": 13,
     "metadata": {},
     "output_type": "execute_result"
    }
   ],
   "source": [
    "df2.isnull().sum()"
   ]
  },
  {
   "cell_type": "code",
   "execution_count": 14,
   "metadata": {},
   "outputs": [
    {
     "name": "stdout",
     "output_type": "stream",
     "text": [
      "El porcentaje de años nulos es de 3.04%\n"
     ]
    },
    {
     "name": "stderr",
     "output_type": "stream",
     "text": [
      "C:\\Users\\smico\\AppData\\Local\\Temp\\ipykernel_16428\\1496820249.py:3: SettingWithCopyWarning: \n",
      "A value is trying to be set on a copy of a slice from a DataFrame.\n",
      "Try using .loc[row_indexer,col_indexer] = value instead\n",
      "\n",
      "See the caveats in the documentation: https://pandas.pydata.org/pandas-docs/stable/user_guide/indexing.html#returning-a-view-versus-a-copy\n",
      "  df2['Year'] = df2['Course'].str.extract(r'(\\d{4})')\n"
     ]
    }
   ],
   "source": [
    "#Necesitamos una columna extra con los años en que los voluntarios han aplicado o asistido a los campamentos. La vamos a sacar del nombre de los curso\n",
    "#Extraemos los años de la fecha de programa y lso añadimos a una columna nueva\n",
    "df2['Year'] = df2['Course'].str.extract(r'(\\d{4})')\n",
    "#Calculamos el porcentaje de nulos en la nueva columna\n",
    "porcentaje=sp.porcentaje_nulos(df2,'Year')\n",
    "print(f'El porcentaje de años nulos es de {porcentaje}%')"
   ]
  },
  {
   "cell_type": "code",
   "execution_count": 15,
   "metadata": {},
   "outputs": [
    {
     "name": "stderr",
     "output_type": "stream",
     "text": [
      "C:\\Users\\smico\\AppData\\Local\\Temp\\ipykernel_16428\\3402033954.py:2: SettingWithCopyWarning: \n",
      "A value is trying to be set on a copy of a slice from a DataFrame\n",
      "\n",
      "See the caveats in the documentation: https://pandas.pydata.org/pandas-docs/stable/user_guide/indexing.html#returning-a-view-versus-a-copy\n",
      "  df2['Year'].fillna(method='ffill', inplace=True)\n"
     ]
    },
    {
     "data": {
      "text/plain": [
       "0"
      ]
     },
     "execution_count": 15,
     "metadata": {},
     "output_type": "execute_result"
    }
   ],
   "source": [
    "#Sustituimos los nulos por el valor siguiente\n",
    "df2['Year'].fillna(method='ffill', inplace=True)\n",
    "df2['Year'].isnull().sum()"
   ]
  },
  {
   "attachments": {},
   "cell_type": "markdown",
   "metadata": {},
   "source": [
    "Ya lo tenemos sin nulos, vamos a analizar la información."
   ]
  },
  {
   "cell_type": "code",
   "execution_count": 16,
   "metadata": {},
   "outputs": [
    {
     "data": {
      "text/plain": [
       "Name               12612\n",
       "Course              1088\n",
       "Anglo_Status          17\n",
       "Date_Modified      24768\n",
       "Age                   86\n",
       "Veteran                2\n",
       "Gender                 2\n",
       "Nationality          188\n",
       "Request_Status        18\n",
       "Date_Modified.1    41700\n",
       "Travel_Alone           1\n",
       "Year                  16\n",
       "dtype: int64"
      ]
     },
     "execution_count": 16,
     "metadata": {},
     "output_type": "execute_result"
    }
   ],
   "source": [
    "#Valores únicos\n",
    "df2.apply(pd.Series.nunique)"
   ]
  },
  {
   "cell_type": "code",
   "execution_count": 17,
   "metadata": {},
   "outputs": [
    {
     "data": {
      "text/html": [
       "<div>\n",
       "<style scoped>\n",
       "    .dataframe tbody tr th:only-of-type {\n",
       "        vertical-align: middle;\n",
       "    }\n",
       "\n",
       "    .dataframe tbody tr th {\n",
       "        vertical-align: top;\n",
       "    }\n",
       "\n",
       "    .dataframe thead th {\n",
       "        text-align: right;\n",
       "    }\n",
       "</style>\n",
       "<table border=\"1\" class=\"dataframe\">\n",
       "  <thead>\n",
       "    <tr style=\"text-align: right;\">\n",
       "      <th></th>\n",
       "      <th>Name</th>\n",
       "      <th>Course</th>\n",
       "      <th>Anglo_Status</th>\n",
       "      <th>Date_Modified</th>\n",
       "      <th>Age</th>\n",
       "      <th>Veteran</th>\n",
       "      <th>Gender</th>\n",
       "      <th>Nationality</th>\n",
       "      <th>Request_Status</th>\n",
       "      <th>Date_Modified.1</th>\n",
       "      <th>Travel_Alone</th>\n",
       "      <th>Year</th>\n",
       "    </tr>\n",
       "  </thead>\n",
       "  <tbody>\n",
       "    <tr>\n",
       "      <th>0</th>\n",
       "      <td>Andrew Thomas</td>\n",
       "      <td>Zujar TEENS - 2 weeks - June/30/2019 to July/1...</td>\n",
       "      <td>Bad feedback</td>\n",
       "      <td>26/01/2022 13:21</td>\n",
       "      <td>20.0</td>\n",
       "      <td>Yes</td>\n",
       "      <td>Male</td>\n",
       "      <td>IRELAND</td>\n",
       "      <td>Cleared</td>\n",
       "      <td>27/02/2019 14:35</td>\n",
       "      <td>No</td>\n",
       "      <td>2019</td>\n",
       "    </tr>\n",
       "    <tr>\n",
       "      <th>1</th>\n",
       "      <td>Emily Harmon</td>\n",
       "      <td>Zujar TEENS - 2 weeks - June/30/2019 to July/1...</td>\n",
       "      <td>Approved</td>\n",
       "      <td>02/12/2019 10:21</td>\n",
       "      <td>21.0</td>\n",
       "      <td>Yes</td>\n",
       "      <td>Female</td>\n",
       "      <td>UNITED KINGDOM</td>\n",
       "      <td>Cleared</td>\n",
       "      <td>20/03/2019 12:47</td>\n",
       "      <td>No</td>\n",
       "      <td>2019</td>\n",
       "    </tr>\n",
       "  </tbody>\n",
       "</table>\n",
       "</div>"
      ],
      "text/plain": [
       "            Name                                             Course  \\\n",
       "0  Andrew Thomas  Zujar TEENS - 2 weeks - June/30/2019 to July/1...   \n",
       "1   Emily Harmon  Zujar TEENS - 2 weeks - June/30/2019 to July/1...   \n",
       "\n",
       "   Anglo_Status     Date_Modified   Age Veteran  Gender     Nationality  \\\n",
       "0  Bad feedback  26/01/2022 13:21  20.0     Yes    Male         IRELAND   \n",
       "1      Approved  02/12/2019 10:21  21.0     Yes  Female  UNITED KINGDOM   \n",
       "\n",
       "  Request_Status   Date_Modified.1 Travel_Alone  Year  \n",
       "0        Cleared  27/02/2019 14:35           No  2019  \n",
       "1        Cleared  20/03/2019 12:47           No  2019  "
      ]
     },
     "execution_count": 17,
     "metadata": {},
     "output_type": "execute_result"
    }
   ],
   "source": [
    "import warnings\n",
    "warnings.filterwarnings(\"ignore\")\n",
    "#La primera vez que hemos corrido el código nos ha dado un error así que usamos la libreria Warnings\n",
    "#Eliminamos los duplicados de la columna 'Name'\n",
    "df_unicos = df2.drop_duplicates(subset='Name', inplace=False)\n",
    "df_unicos.head(2)\n"
   ]
  },
  {
   "cell_type": "code",
   "execution_count": 18,
   "metadata": {},
   "outputs": [
    {
     "data": {
      "text/html": [
       "<div>\n",
       "<style scoped>\n",
       "    .dataframe tbody tr th:only-of-type {\n",
       "        vertical-align: middle;\n",
       "    }\n",
       "\n",
       "    .dataframe tbody tr th {\n",
       "        vertical-align: top;\n",
       "    }\n",
       "\n",
       "    .dataframe thead th {\n",
       "        text-align: right;\n",
       "    }\n",
       "</style>\n",
       "<table border=\"1\" class=\"dataframe\">\n",
       "  <thead>\n",
       "    <tr style=\"text-align: right;\">\n",
       "      <th></th>\n",
       "      <th>Name</th>\n",
       "      <th>Age</th>\n",
       "      <th>Veteran</th>\n",
       "      <th>Gender</th>\n",
       "      <th>Nationality</th>\n",
       "      <th>Year</th>\n",
       "    </tr>\n",
       "  </thead>\n",
       "  <tbody>\n",
       "    <tr>\n",
       "      <th>0</th>\n",
       "      <td>Andrew Thomas</td>\n",
       "      <td>20.0</td>\n",
       "      <td>Yes</td>\n",
       "      <td>Male</td>\n",
       "      <td>IRELAND</td>\n",
       "      <td>2019</td>\n",
       "    </tr>\n",
       "    <tr>\n",
       "      <th>1</th>\n",
       "      <td>Emily Harmon</td>\n",
       "      <td>21.0</td>\n",
       "      <td>Yes</td>\n",
       "      <td>Female</td>\n",
       "      <td>UNITED KINGDOM</td>\n",
       "      <td>2019</td>\n",
       "    </tr>\n",
       "  </tbody>\n",
       "</table>\n",
       "</div>"
      ],
      "text/plain": [
       "            Name   Age Veteran  Gender     Nationality  Year\n",
       "0  Andrew Thomas  20.0     Yes    Male         IRELAND  2019\n",
       "1   Emily Harmon  21.0     Yes  Female  UNITED KINGDOM  2019"
      ]
     },
     "execution_count": 18,
     "metadata": {},
     "output_type": "execute_result"
    }
   ],
   "source": [
    "df_unicos.drop(['Course','Anglo_Status','Date_Modified','Request_Status','Date_Modified.1','Travel_Alone'],axis=1,inplace=True)\n",
    "df_unicos.head(2)"
   ]
  },
  {
   "cell_type": "code",
   "execution_count": 19,
   "metadata": {},
   "outputs": [
    {
     "name": "stdout",
     "output_type": "stream",
     "text": [
      "<class 'pandas.core.frame.DataFrame'>\n",
      "Int64Index: 12612 entries, 0 to 90293\n",
      "Data columns (total 6 columns):\n",
      " #   Column       Non-Null Count  Dtype  \n",
      "---  ------       --------------  -----  \n",
      " 0   Name         12612 non-null  object \n",
      " 1   Age          12612 non-null  float64\n",
      " 2   Veteran      12612 non-null  object \n",
      " 3   Gender       12612 non-null  object \n",
      " 4   Nationality  12612 non-null  object \n",
      " 5   Year         12612 non-null  object \n",
      "dtypes: float64(1), object(5)\n",
      "memory usage: 689.7+ KB\n"
     ]
    }
   ],
   "source": [
    "df_unicos.info()"
   ]
  },
  {
   "cell_type": "code",
   "execution_count": 20,
   "metadata": {},
   "outputs": [
    {
     "data": {
      "text/plain": [
       "0        20\n",
       "1        21\n",
       "2        20\n",
       "3        21\n",
       "4        23\n",
       "         ..\n",
       "89311    63\n",
       "89558    72\n",
       "89679    59\n",
       "90187    59\n",
       "90293    73\n",
       "Name: Age, Length: 12612, dtype: int32"
      ]
     },
     "execution_count": 20,
     "metadata": {},
     "output_type": "execute_result"
    }
   ],
   "source": [
    "df_unicos['Age'].astype(int)\n"
   ]
  },
  {
   "cell_type": "code",
   "execution_count": 21,
   "metadata": {},
   "outputs": [],
   "source": [
    "df_unicos.to_csv(\"datos/voluntarios_unicos.csv\",index=False, header=True)"
   ]
  },
  {
   "cell_type": "code",
   "execution_count": 22,
   "metadata": {},
   "outputs": [
    {
     "data": {
      "text/plain": [
       "Name           0\n",
       "Age            0\n",
       "Veteran        0\n",
       "Gender         0\n",
       "Nationality    0\n",
       "Year           0\n",
       "dtype: int64"
      ]
     },
     "execution_count": 22,
     "metadata": {},
     "output_type": "execute_result"
    }
   ],
   "source": [
    "df_unicos.isnull().sum()"
   ]
  },
  {
   "cell_type": "code",
   "execution_count": 23,
   "metadata": {},
   "outputs": [
    {
     "name": "stdout",
     "output_type": "stream",
     "text": [
      "2936     18.0\n",
      "4233     18.0\n",
      "4302     18.0\n",
      "4342     18.0\n",
      "3311     18.0\n",
      "         ... \n",
      "1506     94.0\n",
      "1459     94.0\n",
      "67095    94.0\n",
      "23473    94.0\n",
      "1715     98.0\n",
      "Name: Age, Length: 12588, dtype: float64\n",
      "21223    18.0\n",
      "108      18.0\n",
      "4270     18.0\n",
      "4272     18.0\n",
      "53490    18.0\n",
      "         ... \n",
      "87336    95.0\n",
      "1752     98.0\n",
      "1715     98.0\n",
      "52801    99.0\n",
      "52133    99.0\n",
      "Name: Age, Length: 90307, dtype: float64\n"
     ]
    }
   ],
   "source": [
    "#Hipotesis1: el mayor grupo de voluntarios pertenece al grupo de 41-60, tanto en aplicaciones como en voluntarios reales\n",
    "#Vamos a crear dos dataframes, uno que solo contenga los veteranos y otro con todos pero solo las columnas necesarias, en los casos necesitamos que sean mayores de 18\n",
    "#Seleccionamos aquellos que son mayores de 18\n",
    "df_edad_reales = df_unicos[df_unicos['Age'] >= 18]\n",
    "print(df_edad_reales['Age'].sort_values())\n",
    "df_edad_totales=df2[df2['Age']>=18]\n",
    "df_edad_totales.drop(['Course','Anglo_Status','Date_Modified','Request_Status','Date_Modified.1','Travel_Alone'],axis=1,inplace=True)\n",
    "print(df_edad_totales['Age'].sort_values())\n"
   ]
  },
  {
   "cell_type": "code",
   "execution_count": 24,
   "metadata": {},
   "outputs": [],
   "source": [
    "#Creamos grupos de edad y los asignamos \n",
    "bins_age = [17, 25, 40, 60, 75, df['Age'].max()]\n",
    "labels_age = ['18-25', '26-40', '41-60', '61-75', '76+']\n",
    "df_edad_reales['Age_Group'] = pd.cut(df_edad_reales['Age'], bins=bins_age, labels=labels_age)\n",
    "df_edad_totales['Age_Group'] = pd.cut(df_edad_totales['Age'], bins=bins_age, labels=labels_age)\n"
   ]
  },
  {
   "cell_type": "code",
   "execution_count": 25,
   "metadata": {},
   "outputs": [
    {
     "name": "stdout",
     "output_type": "stream",
     "text": [
      "Name           0\n",
      "Age            0\n",
      "Veteran        0\n",
      "Gender         0\n",
      "Nationality    0\n",
      "Year           0\n",
      "Age_Group      0\n",
      "dtype: int64\n",
      "Name           0\n",
      "Age            0\n",
      "Veteran        0\n",
      "Gender         0\n",
      "Nationality    0\n",
      "Year           0\n",
      "Age_Group      0\n",
      "dtype: int64\n"
     ]
    }
   ],
   "source": [
    "#Vamos a ver si se ha generado algun nulo en alguno de los campos\n",
    "print(df_edad_reales.isna().sum())\n",
    "print(df_edad_totales.isna().sum())\n"
   ]
  },
  {
   "cell_type": "code",
   "execution_count": 26,
   "metadata": {},
   "outputs": [],
   "source": [
    "mediana_age_reales=df_edad_reales['Age'].median()\n",
    "mediana_age_totales=df_edad_totales['Age'].median()"
   ]
  },
  {
   "cell_type": "code",
   "execution_count": 27,
   "metadata": {},
   "outputs": [],
   "source": [
    "#La primera comprobacion será entre los grupos de edades por aplicaciones y reales. >Les separamos en dos dtaframes que usaremos para las gráficas\n",
    "age_groups_real = df_edad_reales.groupby(['Age_Group']).size().reset_index(name='Total')\n",
    "age_groups_total= df_edad_totales.groupby(['Age_Group']).size().reset_index(name='Total')\n"
   ]
  },
  {
   "cell_type": "code",
   "execution_count": 28,
   "metadata": {},
   "outputs": [
    {
     "name": "stdout",
     "output_type": "stream",
     "text": [
      "  Age_Group  Total  Porcentaje\n",
      "0     18-25   1799       14.29\n",
      "1     26-40   5495       43.65\n",
      "2     41-60   2382       18.92\n",
      "3     61-75   2391       18.99\n",
      "4       76+    521        4.14\n",
      "  Age_Group  Total  Porcentaje\n",
      "0     18-25  10010       11.08\n",
      "1     26-40  34833       38.57\n",
      "2     41-60  17688       19.59\n",
      "3     61-75  21231       23.51\n",
      "4       76+   6545        7.25\n"
     ]
    }
   ],
   "source": [
    "#Llamamos a la función porcentaje que está guardada en soporte.py\n",
    "age_groups_real['Porcentaje']=sp.porcentaje(age_groups_real,'Total')\n",
    "age_groups_total['Porcentaje']=sp.porcentaje(age_groups_total,'Total')\n",
    "print(age_groups_real)\n",
    "print(age_groups_total)"
   ]
  },
  {
   "cell_type": "code",
   "execution_count": 50,
   "metadata": {},
   "outputs": [
    {
     "data": {
      "text/plain": [
       "'for i, bar in enumerate(ax.patches):\\n   ax.text(bar.get_x() + bar.get_width() / 2, bar.get_height()  +1.5,\\n        f\"{gender_groups[\\'Porcentaje\\'][i]}\",\\n        horizontalalignment= \\'center\\', verticalalignment=\\'bottom\\',\\n        fontsize=15, rotation=0, color=\\'black\\')'"
      ]
     },
     "execution_count": 50,
     "metadata": {},
     "output_type": "execute_result"
    },
    {
     "data": {
      "image/png": "[encoded data removed]",
      "text/plain": [
       "<Figure size 2500x500 with 1 Axes>"
      ]
     },
     "metadata": {},
     "output_type": "display_data"
    }
   ],
   "source": [
    "sp.graf_barras(mediana_age_reales,'Age_Group', 'Total', age_groups_real,'Grupo de Edad', 'Total','Grupos por Edad de Aplicantes')\n",
    "\n",
    "\"\"\"for i, bar in enumerate(ax.patches):\n",
    "   ax.text(bar.get_x() + bar.get_width() / 2, bar.get_height()  +1.5,\n",
    "        f\"{gender_groups['Porcentaje'][i]}\",\n",
    "        horizontalalignment= 'center', verticalalignment='bottom',\n",
    "        fontsize=15, rotation=0, color='black')\"\"\""
   ]
  },
  {
   "cell_type": "code",
   "execution_count": 49,
   "metadata": {},
   "outputs": [
    {
     "data": {
      "image/png": "[encoded data removed]",
      "text/plain": [
       "<Figure size 2500x500 with 1 Axes>"
      ]
     },
     "metadata": {},
     "output_type": "display_data"
    }
   ],
   "source": [
    "sp.graf_barras(mediana_age_totales,'Age_Group', 'Total', age_groups_total,'Grupo de Edad', 'Total','Grupos por Edad de Participantes')"
   ]
  },
  {
   "cell_type": "code",
   "execution_count": 31,
   "metadata": {},
   "outputs": [
    {
     "name": "stdout",
     "output_type": "stream",
     "text": [
      "    Year Age_Group   Total\n",
      "0   2004     18-25   215.0\n",
      "1   2004     26-40    69.0\n",
      "2   2004     41-60   171.0\n",
      "3   2004     61-75   696.0\n",
      "4   2004       76+   318.0\n",
      "..   ...       ...     ...\n",
      "70  2023     18-25   127.0\n",
      "71  2023     26-40    61.0\n",
      "72  2023     41-60  1034.0\n",
      "73  2023     61-75  2272.0\n",
      "74  2023       76+   474.0\n",
      "\n",
      "[75 rows x 3 columns]\n",
      "    Year Age_Group    Total\n",
      "0   2004     18-25   2134.0\n",
      "1   2004     26-40   2430.0\n",
      "2   2004     41-60   7339.0\n",
      "3   2004     61-75  18157.0\n",
      "4   2004       76+   9236.0\n",
      "..   ...       ...      ...\n",
      "75  2023     18-25    669.0\n",
      "76  2023     26-40   2339.0\n",
      "77  2023     41-60   6793.0\n",
      "78  2023     61-75  21184.0\n",
      "79  2023       76+   2741.0\n",
      "\n",
      "[80 rows x 3 columns]\n"
     ]
    }
   ],
   "source": [
    "\n",
    "timeline_age_real=df_edad_reales.groupby(['Year', 'Age_Group']).sum()\n",
    "timeline_age_real=timeline_age_real.reset_index()\n",
    "timeline_age_real.columns=['Year','Age_Group','Total']\n",
    "timeline_age_totales=df_edad_totales.groupby(['Year', 'Age_Group']).sum()\n",
    "timeline_age_totales=timeline_age_totales.reset_index()\n",
    "timeline_age_totales.columns=['Year','Age_Group','Total']\n",
    "print(timeline_age_real)\n",
    "print(timeline_age_totales)\n",
    "\n"
   ]
  },
  {
   "cell_type": "code",
   "execution_count": 32,
   "metadata": {},
   "outputs": [
    {
     "data": {
      "image/png": "[encoded data removed]",
      "text/plain": [
       "<Figure size 2000x1000 with 2 Axes>"
      ]
     },
     "metadata": {},
     "output_type": "display_data"
    }
   ],
   "source": [
    "fig, axs = plt.subplots(1, 2, figsize=(20, 10))\n",
    "plt.subplot(2, 1, 1)\n",
    "for group in timeline_age_totales['Age_Group'].unique():\n",
    "    subset = timeline_age_totales[timeline_age_totales['Age_Group'] == group]\n",
    "    plt.plot(subset['Year'], subset['Total'], label=group)\n",
    "plt.xlabel('Year')\n",
    "plt.ylabel('Total')\n",
    "plt.legend()\n",
    "plt.title('Histórico voluntarios aplicaciones')\n",
    "plt.gca().spines['top'].set_visible(False)\n",
    "plt.gca().spines['right'].set_visible(False)\n",
    "\n",
    "# Crear el segundo gráfico\n",
    "plt.subplot(2, 1, 2)\n",
    "for group in timeline_age_real['Age_Group'].unique():\n",
    "    subset = timeline_age_real[timeline_age_real['Age_Group'] == group]\n",
    "    plt.plot(subset['Year'], subset['Total'], label=group)\n",
    "plt.xlabel('Year')\n",
    "plt.ylabel('Total')\n",
    "plt.legend()\n",
    "plt.title('Histórico voluntarios reales')\n",
    "plt.gca().spines['top'].set_visible(False)\n",
    "plt.gca().spines['right'].set_visible(False)\n",
    "\n",
    "# Mostrar los gráficos\n",
    "plt.show()\n",
    "\n",
    "\n",
    "\n"
   ]
  },
  {
   "cell_type": "code",
   "execution_count": 33,
   "metadata": {},
   "outputs": [
    {
     "name": "stdout",
     "output_type": "stream",
     "text": [
      "Location not found\n"
     ]
    }
   ],
   "source": [
    "try:\n",
    "    location = geolocator.geocode(\"Ireland\")\n",
    "    continent = location.raw.get('address').get('continent')\n",
    "    print(continent)\n",
    "except:\n",
    "    continent = None\n",
    "    print(\"Location not found\")"
   ]
  },
  {
   "cell_type": "code",
   "execution_count": 34,
   "metadata": {},
   "outputs": [
    {
     "data": {
      "text/html": [
       "<div>\n",
       "<style scoped>\n",
       "    .dataframe tbody tr th:only-of-type {\n",
       "        vertical-align: middle;\n",
       "    }\n",
       "\n",
       "    .dataframe tbody tr th {\n",
       "        vertical-align: top;\n",
       "    }\n",
       "\n",
       "    .dataframe thead th {\n",
       "        text-align: right;\n",
       "    }\n",
       "</style>\n",
       "<table border=\"1\" class=\"dataframe\">\n",
       "  <thead>\n",
       "    <tr style=\"text-align: right;\">\n",
       "      <th></th>\n",
       "      <th>Nationality</th>\n",
       "      <th>Total</th>\n",
       "    </tr>\n",
       "  </thead>\n",
       "  <tbody>\n",
       "    <tr>\n",
       "      <th>0</th>\n",
       "      <td>ABU DHABI</td>\n",
       "      <td>6</td>\n",
       "    </tr>\n",
       "    <tr>\n",
       "      <th>1</th>\n",
       "      <td>AFGHANISTAN</td>\n",
       "      <td>27</td>\n",
       "    </tr>\n",
       "    <tr>\n",
       "      <th>2</th>\n",
       "      <td>ALBANIA</td>\n",
       "      <td>76</td>\n",
       "    </tr>\n",
       "    <tr>\n",
       "      <th>3</th>\n",
       "      <td>ALGERIA</td>\n",
       "      <td>725</td>\n",
       "    </tr>\n",
       "    <tr>\n",
       "      <th>4</th>\n",
       "      <td>AMERICAN SAMOA</td>\n",
       "      <td>95</td>\n",
       "    </tr>\n",
       "    <tr>\n",
       "      <th>...</th>\n",
       "      <td>...</td>\n",
       "      <td>...</td>\n",
       "    </tr>\n",
       "    <tr>\n",
       "      <th>183</th>\n",
       "      <td>VIETNAM</td>\n",
       "      <td>48</td>\n",
       "    </tr>\n",
       "    <tr>\n",
       "      <th>184</th>\n",
       "      <td>WEST INDIES</td>\n",
       "      <td>12</td>\n",
       "    </tr>\n",
       "    <tr>\n",
       "      <th>185</th>\n",
       "      <td>YEMEN</td>\n",
       "      <td>42</td>\n",
       "    </tr>\n",
       "    <tr>\n",
       "      <th>186</th>\n",
       "      <td>ZAMBIA</td>\n",
       "      <td>67</td>\n",
       "    </tr>\n",
       "    <tr>\n",
       "      <th>187</th>\n",
       "      <td>ZIMBABWE</td>\n",
       "      <td>129</td>\n",
       "    </tr>\n",
       "  </tbody>\n",
       "</table>\n",
       "<p>188 rows × 2 columns</p>\n",
       "</div>"
      ],
      "text/plain": [
       "        Nationality  Total\n",
       "0         ABU DHABI      6\n",
       "1       AFGHANISTAN     27\n",
       "2           ALBANIA     76\n",
       "3           ALGERIA    725\n",
       "4    AMERICAN SAMOA     95\n",
       "..              ...    ...\n",
       "183         VIETNAM     48\n",
       "184     WEST INDIES     12\n",
       "185           YEMEN     42\n",
       "186          ZAMBIA     67\n",
       "187        ZIMBABWE    129\n",
       "\n",
       "[188 rows x 2 columns]"
      ]
     },
     "execution_count": 34,
     "metadata": {},
     "output_type": "execute_result"
    }
   ],
   "source": [
    "df_paises_real=df_unicos.groupby(['Nationality']).size().reset_index(name='Total')\n",
    "df_paises_total=df2.groupby(['Nationality']).size().reset_index(name='Total')\n",
    "df_paises_total"
   ]
  },
  {
   "cell_type": "code",
   "execution_count": 35,
   "metadata": {},
   "outputs": [
    {
     "data": {
      "text/html": [
       "<div>\n",
       "<style scoped>\n",
       "    .dataframe tbody tr th:only-of-type {\n",
       "        vertical-align: middle;\n",
       "    }\n",
       "\n",
       "    .dataframe tbody tr th {\n",
       "        vertical-align: top;\n",
       "    }\n",
       "\n",
       "    .dataframe thead th {\n",
       "        text-align: right;\n",
       "    }\n",
       "</style>\n",
       "<table border=\"1\" class=\"dataframe\">\n",
       "  <thead>\n",
       "    <tr style=\"text-align: right;\">\n",
       "      <th></th>\n",
       "      <th>Nationality</th>\n",
       "      <th>Total</th>\n",
       "      <th>Porcentaje</th>\n",
       "    </tr>\n",
       "  </thead>\n",
       "  <tbody>\n",
       "    <tr>\n",
       "      <th>151</th>\n",
       "      <td>USA</td>\n",
       "      <td>5435</td>\n",
       "      <td>43.09</td>\n",
       "    </tr>\n",
       "    <tr>\n",
       "      <th>148</th>\n",
       "      <td>UNITED KINGDOM</td>\n",
       "      <td>1691</td>\n",
       "      <td>13.41</td>\n",
       "    </tr>\n",
       "    <tr>\n",
       "      <th>30</th>\n",
       "      <td>CANADA</td>\n",
       "      <td>1043</td>\n",
       "      <td>8.27</td>\n",
       "    </tr>\n",
       "    <tr>\n",
       "      <th>67</th>\n",
       "      <td>INDIA</td>\n",
       "      <td>846</td>\n",
       "      <td>6.71</td>\n",
       "    </tr>\n",
       "    <tr>\n",
       "      <th>10</th>\n",
       "      <td>AUSTRALIA</td>\n",
       "      <td>369</td>\n",
       "      <td>2.93</td>\n",
       "    </tr>\n",
       "    <tr>\n",
       "      <th>...</th>\n",
       "      <td>...</td>\n",
       "      <td>...</td>\n",
       "      <td>...</td>\n",
       "    </tr>\n",
       "    <tr>\n",
       "      <th>98</th>\n",
       "      <td>MOZAMBIQUE</td>\n",
       "      <td>1</td>\n",
       "      <td>0.01</td>\n",
       "    </tr>\n",
       "    <tr>\n",
       "      <th>79</th>\n",
       "      <td>KOREA</td>\n",
       "      <td>1</td>\n",
       "      <td>0.01</td>\n",
       "    </tr>\n",
       "    <tr>\n",
       "      <th>81</th>\n",
       "      <td>KYRGYZSTAN</td>\n",
       "      <td>1</td>\n",
       "      <td>0.01</td>\n",
       "    </tr>\n",
       "    <tr>\n",
       "      <th>91</th>\n",
       "      <td>MALDIVES</td>\n",
       "      <td>1</td>\n",
       "      <td>0.01</td>\n",
       "    </tr>\n",
       "    <tr>\n",
       "      <th>0</th>\n",
       "      <td>ABU DHABI</td>\n",
       "      <td>1</td>\n",
       "      <td>0.01</td>\n",
       "    </tr>\n",
       "  </tbody>\n",
       "</table>\n",
       "<p>160 rows × 3 columns</p>\n",
       "</div>"
      ],
      "text/plain": [
       "        Nationality  Total  Porcentaje\n",
       "151             USA   5435       43.09\n",
       "148  UNITED KINGDOM   1691       13.41\n",
       "30           CANADA   1043        8.27\n",
       "67            INDIA    846        6.71\n",
       "10        AUSTRALIA    369        2.93\n",
       "..              ...    ...         ...\n",
       "98       MOZAMBIQUE      1        0.01\n",
       "79            KOREA      1        0.01\n",
       "81       KYRGYZSTAN      1        0.01\n",
       "91         MALDIVES      1        0.01\n",
       "0         ABU DHABI      1        0.01\n",
       "\n",
       "[160 rows x 3 columns]"
      ]
     },
     "execution_count": 35,
     "metadata": {},
     "output_type": "execute_result"
    }
   ],
   "source": [
    "df_paises_real['Porcentaje']=sp.porcentaje(df_paises_real,'Total')\n",
    "df_paises_total['Porcentaje']=sp.porcentaje(df_paises_total,'Total')\n",
    "df_paises_real.sort_values (by='Porcentaje',ascending=False)\n"
   ]
  },
  {
   "cell_type": "code",
   "execution_count": 36,
   "metadata": {},
   "outputs": [
    {
     "data": {
      "text/html": [
       "<div>\n",
       "<style scoped>\n",
       "    .dataframe tbody tr th:only-of-type {\n",
       "        vertical-align: middle;\n",
       "    }\n",
       "\n",
       "    .dataframe tbody tr th {\n",
       "        vertical-align: top;\n",
       "    }\n",
       "\n",
       "    .dataframe thead th {\n",
       "        text-align: right;\n",
       "    }\n",
       "</style>\n",
       "<table border=\"1\" class=\"dataframe\">\n",
       "  <thead>\n",
       "    <tr style=\"text-align: right;\">\n",
       "      <th></th>\n",
       "      <th>Nationality</th>\n",
       "      <th>Total</th>\n",
       "      <th>Porcentaje</th>\n",
       "    </tr>\n",
       "  </thead>\n",
       "  <tbody>\n",
       "    <tr>\n",
       "      <th>179</th>\n",
       "      <td>USA</td>\n",
       "      <td>40348</td>\n",
       "      <td>44.65</td>\n",
       "    </tr>\n",
       "    <tr>\n",
       "      <th>175</th>\n",
       "      <td>UNITED KINGDOM</td>\n",
       "      <td>15042</td>\n",
       "      <td>16.65</td>\n",
       "    </tr>\n",
       "    <tr>\n",
       "      <th>38</th>\n",
       "      <td>CANADA</td>\n",
       "      <td>8323</td>\n",
       "      <td>9.21</td>\n",
       "    </tr>\n",
       "    <tr>\n",
       "      <th>85</th>\n",
       "      <td>INDIA</td>\n",
       "      <td>4881</td>\n",
       "      <td>5.40</td>\n",
       "    </tr>\n",
       "    <tr>\n",
       "      <th>89</th>\n",
       "      <td>IRELAND</td>\n",
       "      <td>2896</td>\n",
       "      <td>3.20</td>\n",
       "    </tr>\n",
       "    <tr>\n",
       "      <th>...</th>\n",
       "      <td>...</td>\n",
       "      <td>...</td>\n",
       "      <td>...</td>\n",
       "    </tr>\n",
       "    <tr>\n",
       "      <th>48</th>\n",
       "      <td>COOK ISLANDS</td>\n",
       "      <td>3</td>\n",
       "      <td>0.00</td>\n",
       "    </tr>\n",
       "    <tr>\n",
       "      <th>34</th>\n",
       "      <td>BURKINA FASO</td>\n",
       "      <td>2</td>\n",
       "      <td>0.00</td>\n",
       "    </tr>\n",
       "    <tr>\n",
       "      <th>84</th>\n",
       "      <td>ICELAND</td>\n",
       "      <td>2</td>\n",
       "      <td>0.00</td>\n",
       "    </tr>\n",
       "    <tr>\n",
       "      <th>39</th>\n",
       "      <td>CANAL ZONE</td>\n",
       "      <td>3</td>\n",
       "      <td>0.00</td>\n",
       "    </tr>\n",
       "    <tr>\n",
       "      <th>92</th>\n",
       "      <td>IVORY COAST</td>\n",
       "      <td>2</td>\n",
       "      <td>0.00</td>\n",
       "    </tr>\n",
       "  </tbody>\n",
       "</table>\n",
       "<p>188 rows × 3 columns</p>\n",
       "</div>"
      ],
      "text/plain": [
       "        Nationality  Total  Porcentaje\n",
       "179             USA  40348       44.65\n",
       "175  UNITED KINGDOM  15042       16.65\n",
       "38           CANADA   8323        9.21\n",
       "85            INDIA   4881        5.40\n",
       "89          IRELAND   2896        3.20\n",
       "..              ...    ...         ...\n",
       "48     COOK ISLANDS      3        0.00\n",
       "34     BURKINA FASO      2        0.00\n",
       "84          ICELAND      2        0.00\n",
       "39       CANAL ZONE      3        0.00\n",
       "92      IVORY COAST      2        0.00\n",
       "\n",
       "[188 rows x 3 columns]"
      ]
     },
     "execution_count": 36,
     "metadata": {},
     "output_type": "execute_result"
    }
   ],
   "source": [
    "df_paises_total.sort_values (by='Porcentaje',ascending=False)"
   ]
  },
  {
   "cell_type": "code",
   "execution_count": 37,
   "metadata": {},
   "outputs": [
    {
     "data": {
      "text/html": [
       "<div>\n",
       "<style scoped>\n",
       "    .dataframe tbody tr th:only-of-type {\n",
       "        vertical-align: middle;\n",
       "    }\n",
       "\n",
       "    .dataframe tbody tr th {\n",
       "        vertical-align: top;\n",
       "    }\n",
       "\n",
       "    .dataframe thead th {\n",
       "        text-align: right;\n",
       "    }\n",
       "</style>\n",
       "<table border=\"1\" class=\"dataframe\">\n",
       "  <thead>\n",
       "    <tr style=\"text-align: right;\">\n",
       "      <th></th>\n",
       "      <th>Nationality</th>\n",
       "      <th>Total</th>\n",
       "      <th>Porcentaje</th>\n",
       "      <th>Nationality_groups</th>\n",
       "    </tr>\n",
       "  </thead>\n",
       "  <tbody>\n",
       "    <tr>\n",
       "      <th>0</th>\n",
       "      <td>ABU DHABI</td>\n",
       "      <td>6</td>\n",
       "      <td>0.01</td>\n",
       "      <td>OTHERS</td>\n",
       "    </tr>\n",
       "    <tr>\n",
       "      <th>1</th>\n",
       "      <td>AFGHANISTAN</td>\n",
       "      <td>27</td>\n",
       "      <td>0.03</td>\n",
       "      <td>OTHERS</td>\n",
       "    </tr>\n",
       "    <tr>\n",
       "      <th>2</th>\n",
       "      <td>ALBANIA</td>\n",
       "      <td>76</td>\n",
       "      <td>0.08</td>\n",
       "      <td>OTHERS</td>\n",
       "    </tr>\n",
       "    <tr>\n",
       "      <th>3</th>\n",
       "      <td>ALGERIA</td>\n",
       "      <td>725</td>\n",
       "      <td>0.80</td>\n",
       "      <td>OTHERS</td>\n",
       "    </tr>\n",
       "    <tr>\n",
       "      <th>4</th>\n",
       "      <td>AMERICAN SAMOA</td>\n",
       "      <td>95</td>\n",
       "      <td>0.11</td>\n",
       "      <td>OTHERS</td>\n",
       "    </tr>\n",
       "    <tr>\n",
       "      <th>...</th>\n",
       "      <td>...</td>\n",
       "      <td>...</td>\n",
       "      <td>...</td>\n",
       "      <td>...</td>\n",
       "    </tr>\n",
       "    <tr>\n",
       "      <th>183</th>\n",
       "      <td>VIETNAM</td>\n",
       "      <td>48</td>\n",
       "      <td>0.05</td>\n",
       "      <td>OTHERS</td>\n",
       "    </tr>\n",
       "    <tr>\n",
       "      <th>184</th>\n",
       "      <td>WEST INDIES</td>\n",
       "      <td>12</td>\n",
       "      <td>0.01</td>\n",
       "      <td>OTHERS</td>\n",
       "    </tr>\n",
       "    <tr>\n",
       "      <th>185</th>\n",
       "      <td>YEMEN</td>\n",
       "      <td>42</td>\n",
       "      <td>0.05</td>\n",
       "      <td>OTHERS</td>\n",
       "    </tr>\n",
       "    <tr>\n",
       "      <th>186</th>\n",
       "      <td>ZAMBIA</td>\n",
       "      <td>67</td>\n",
       "      <td>0.07</td>\n",
       "      <td>OTHERS</td>\n",
       "    </tr>\n",
       "    <tr>\n",
       "      <th>187</th>\n",
       "      <td>ZIMBABWE</td>\n",
       "      <td>129</td>\n",
       "      <td>0.14</td>\n",
       "      <td>OTHERS</td>\n",
       "    </tr>\n",
       "  </tbody>\n",
       "</table>\n",
       "<p>188 rows × 4 columns</p>\n",
       "</div>"
      ],
      "text/plain": [
       "        Nationality  Total  Porcentaje Nationality_groups\n",
       "0         ABU DHABI      6        0.01             OTHERS\n",
       "1       AFGHANISTAN     27        0.03             OTHERS\n",
       "2           ALBANIA     76        0.08             OTHERS\n",
       "3           ALGERIA    725        0.80             OTHERS\n",
       "4    AMERICAN SAMOA     95        0.11             OTHERS\n",
       "..              ...    ...         ...                ...\n",
       "183         VIETNAM     48        0.05             OTHERS\n",
       "184     WEST INDIES     12        0.01             OTHERS\n",
       "185           YEMEN     42        0.05             OTHERS\n",
       "186          ZAMBIA     67        0.07             OTHERS\n",
       "187        ZIMBABWE    129        0.14             OTHERS\n",
       "\n",
       "[188 rows x 4 columns]"
      ]
     },
     "execution_count": 37,
     "metadata": {},
     "output_type": "execute_result"
    }
   ],
   "source": [
    "df_paises_total['Nationality_groups']=np.where(df_paises_total['Porcentaje']<2,'OTHERS',df_paises_total['Nationality'])\n",
    "df_paises_real['Nationality_groups']=np.where(df_paises_real['Porcentaje']<2,'OTHERS',df_paises_real['Nationality'])\n",
    "df_paises_total\n"
   ]
  },
  {
   "cell_type": "code",
   "execution_count": 40,
   "metadata": {},
   "outputs": [
    {
     "data": {
      "text/html": [
       "<div>\n",
       "<style scoped>\n",
       "    .dataframe tbody tr th:only-of-type {\n",
       "        vertical-align: middle;\n",
       "    }\n",
       "\n",
       "    .dataframe tbody tr th {\n",
       "        vertical-align: top;\n",
       "    }\n",
       "\n",
       "    .dataframe thead th {\n",
       "        text-align: right;\n",
       "    }\n",
       "</style>\n",
       "<table border=\"1\" class=\"dataframe\">\n",
       "  <thead>\n",
       "    <tr style=\"text-align: right;\">\n",
       "      <th></th>\n",
       "      <th>Nationality_groups</th>\n",
       "      <th>Porcentaje</th>\n",
       "      <th>Total</th>\n",
       "    </tr>\n",
       "  </thead>\n",
       "  <tbody>\n",
       "    <tr>\n",
       "      <th>6</th>\n",
       "      <td>USA</td>\n",
       "      <td>44.65</td>\n",
       "      <td>40348</td>\n",
       "    </tr>\n",
       "    <tr>\n",
       "      <th>4</th>\n",
       "      <td>OTHERS</td>\n",
       "      <td>17.86</td>\n",
       "      <td>16164</td>\n",
       "    </tr>\n",
       "    <tr>\n",
       "      <th>5</th>\n",
       "      <td>UNITED KINGDOM</td>\n",
       "      <td>16.65</td>\n",
       "      <td>15042</td>\n",
       "    </tr>\n",
       "    <tr>\n",
       "      <th>1</th>\n",
       "      <td>CANADA</td>\n",
       "      <td>9.21</td>\n",
       "      <td>8323</td>\n",
       "    </tr>\n",
       "    <tr>\n",
       "      <th>2</th>\n",
       "      <td>INDIA</td>\n",
       "      <td>5.40</td>\n",
       "      <td>4881</td>\n",
       "    </tr>\n",
       "    <tr>\n",
       "      <th>3</th>\n",
       "      <td>IRELAND</td>\n",
       "      <td>3.20</td>\n",
       "      <td>2896</td>\n",
       "    </tr>\n",
       "    <tr>\n",
       "      <th>0</th>\n",
       "      <td>AUSTRALIA</td>\n",
       "      <td>3.00</td>\n",
       "      <td>2712</td>\n",
       "    </tr>\n",
       "  </tbody>\n",
       "</table>\n",
       "</div>"
      ],
      "text/plain": [
       "  Nationality_groups  Porcentaje  Total\n",
       "6                USA       44.65  40348\n",
       "4             OTHERS       17.86  16164\n",
       "5     UNITED KINGDOM       16.65  15042\n",
       "1             CANADA        9.21   8323\n",
       "2              INDIA        5.40   4881\n",
       "3            IRELAND        3.20   2896\n",
       "0          AUSTRALIA        3.00   2712"
      ]
     },
     "execution_count": 40,
     "metadata": {},
     "output_type": "execute_result"
    }
   ],
   "source": [
    "df_paises_real=pd.DataFrame(df_paises_real.groupby(['Nationality_groups'])['Porcentaje','Total'].sum()).reset_index().sort_values(by='Porcentaje',ascending=False)\n",
    "df_paises_total=pd.DataFrame(df_paises_total.groupby(['Nationality_groups'])['Porcentaje','Total'].sum()).reset_index().sort_values(by='Porcentaje',ascending=False)\n",
    "df_paises_total"
   ]
  },
  {
   "cell_type": "code",
   "execution_count": 39,
   "metadata": {},
   "outputs": [],
   "source": [
    "df_paises_total = df_paises_total.reset_index(drop=True)\n",
    "df_paises_real = df_paises_real.reset_index(drop=True)"
   ]
  },
  {
   "cell_type": "code",
   "execution_count": 40,
   "metadata": {},
   "outputs": [
    {
     "data": {
      "image/png": "[encoded data removed]",
      "text/plain": [
       "<Figure size 2000x1000 with 2 Axes>"
      ]
     },
     "metadata": {},
     "output_type": "display_data"
    }
   ],
   "source": [
    "# Create bar chart\n",
    "fig, axs = plt.subplots(1, 2, figsize=(20, 10))\n",
    "plt.subplot(2, 1, 1)\n",
    "\n",
    "ax = sns.barplot(x='Nationality_groups', y='Porcentaje', data=df_paises_total)\n",
    "ax.spines['right'].set_visible(False)\n",
    "ax.spines['top'].set_visible(False)\n",
    "\n",
    "# Add value labels to the bars\n",
    "for i, bar in enumerate(ax.patches):\n",
    "    ax.text(bar.get_x() + bar.get_width() / 2, bar.get_height() +1.5,\n",
    "        f\"{df_paises_total['Porcentaje'][i]}\",\n",
    "        horizontalalignment='center', verticalalignment='bottom',\n",
    "        fontsize=15, rotation=0, color='black')\n",
    "\n",
    "# Add x and y labels and title\n",
    "plt.xlabel('Nacionalidades')\n",
    "plt.ylabel('Porcentaje')\n",
    "plt.title('% Nacionalidades total aplicaciones')\n",
    "\n",
    "\n",
    "plt.subplot(2, 1, 2)\n",
    "ax = sns.barplot(x='Nationality_groups', y='Porcentaje', data=df_paises_real)\n",
    "ax.spines['right'].set_visible(False)\n",
    "ax.spines['top'].set_visible(False)\n",
    "\n",
    "# Add value labels to the bars\n",
    "for i, bar in enumerate(ax.patches):\n",
    "    ax.text(bar.get_x() + bar.get_width() / 2, bar.get_height() +1.5,\n",
    "        f\"{df_paises_real['Porcentaje'][i]}\",\n",
    "        horizontalalignment='center', verticalalignment='bottom',\n",
    "        fontsize=15, rotation=0, color='black')\n",
    "\n",
    "# Add x and y labels and title\n",
    "plt.xlabel('Nacionalidades')\n",
    "plt.ylabel('Porcentaje')\n",
    "plt.title('% Nacionalidades participantes')\n",
    "\n",
    "plt.show()\n",
    "\n",
    "\n",
    "\n"
   ]
  },
  {
   "cell_type": "code",
   "execution_count": 44,
   "metadata": {},
   "outputs": [
    {
     "name": "stdout",
     "output_type": "stream",
     "text": [
      "<pandas.core.groupby.generic.DataFrameGroupBy object at 0x00000219520DBF70>\n"
     ]
    }
   ],
   "source": [
    "df_paises_reales_historico=df_unicos.groupby(['Nationality','Year']).reset_index()\n",
    "df_paises_totales_historico=df2.groupby(['Nationality','Year']).reset_index()\n"
   ]
  },
  {
   "cell_type": "code",
   "execution_count": 47,
   "metadata": {},
   "outputs": [
    {
     "ename": "KeyError",
     "evalue": "'Column not found: Total'",
     "output_type": "error",
     "traceback": [
      "\u001b[1;31m---------------------------------------------------------------------------\u001b[0m",
      "\u001b[1;31mKeyError\u001b[0m                                  Traceback (most recent call last)",
      "Cell \u001b[1;32mIn [47], line 1\u001b[0m\n\u001b[1;32m----> 1\u001b[0m df_paises_reales_historico[\u001b[39m'\u001b[39m\u001b[39mPorcentaje\u001b[39m\u001b[39m'\u001b[39m]\u001b[39m=\u001b[39msp\u001b[39m.\u001b[39;49mporcentaje(df_paises_reales_historico,\u001b[39m'\u001b[39;49m\u001b[39mTotal\u001b[39;49m\u001b[39m'\u001b[39;49m)\n\u001b[0;32m      2\u001b[0m df_paises_totales_historico[\u001b[39m'\u001b[39m\u001b[39mPorcentaje\u001b[39m\u001b[39m'\u001b[39m]\u001b[39m=\u001b[39msp\u001b[39m.\u001b[39mporcentaje(df_paises_totales_historico,\u001b[39m'\u001b[39m\u001b[39mTotal\u001b[39m\u001b[39m'\u001b[39m)\n\u001b[0;32m      3\u001b[0m df_paises_reales_historico\u001b[39m.\u001b[39msort_values (by\u001b[39m=\u001b[39m\u001b[39m'\u001b[39m\u001b[39mPorcentaje\u001b[39m\u001b[39m'\u001b[39m,ascending\u001b[39m=\u001b[39m\u001b[39mFalse\u001b[39;00m)\n",
      "File \u001b[1;32mc:\\Users\\smico\\OneDrive\\Documentos\\CURSO_DATA_ANALYST\\EJERCICIOS2\\labs\\ETL-project\\src\\soporte.py:146\u001b[0m, in \u001b[0;36mporcentaje\u001b[1;34m(df, columna)\u001b[0m\n\u001b[0;32m    145\u001b[0m \u001b[39mdef\u001b[39;00m \u001b[39mporcentaje\u001b[39m(df,columna):\n\u001b[1;32m--> 146\u001b[0m     \u001b[39mreturn\u001b[39;00m \u001b[39mround\u001b[39m(df[columna] \u001b[39m/\u001b[39mdf[columna]\u001b[39m.\u001b[39msum()\u001b[39m*\u001b[39m\u001b[39m100\u001b[39m,\u001b[39m2\u001b[39m)\n",
      "File \u001b[1;32mc:\\Users\\smico\\anaconda3\\envs\\iron\\lib\\site-packages\\pandas\\core\\groupby\\generic.py:1415\u001b[0m, in \u001b[0;36mDataFrameGroupBy.__getitem__\u001b[1;34m(self, key)\u001b[0m\n\u001b[0;32m   1406\u001b[0m \u001b[39mif\u001b[39;00m \u001b[39misinstance\u001b[39m(key, \u001b[39mtuple\u001b[39m) \u001b[39mand\u001b[39;00m \u001b[39mlen\u001b[39m(key) \u001b[39m>\u001b[39m \u001b[39m1\u001b[39m:\n\u001b[0;32m   1407\u001b[0m     \u001b[39m# if len == 1, then it becomes a SeriesGroupBy and this is actually\u001b[39;00m\n\u001b[0;32m   1408\u001b[0m     \u001b[39m# valid syntax, so don't raise warning\u001b[39;00m\n\u001b[0;32m   1409\u001b[0m     warnings\u001b[39m.\u001b[39mwarn(\n\u001b[0;32m   1410\u001b[0m         \u001b[39m\"\u001b[39m\u001b[39mIndexing with multiple keys (implicitly converted to a tuple \u001b[39m\u001b[39m\"\u001b[39m\n\u001b[0;32m   1411\u001b[0m         \u001b[39m\"\u001b[39m\u001b[39mof keys) will be deprecated, use a list instead.\u001b[39m\u001b[39m\"\u001b[39m,\n\u001b[0;32m   1412\u001b[0m         \u001b[39mFutureWarning\u001b[39;00m,\n\u001b[0;32m   1413\u001b[0m         stacklevel\u001b[39m=\u001b[39mfind_stack_level(),\n\u001b[0;32m   1414\u001b[0m     )\n\u001b[1;32m-> 1415\u001b[0m \u001b[39mreturn\u001b[39;00m \u001b[39msuper\u001b[39;49m()\u001b[39m.\u001b[39;49m\u001b[39m__getitem__\u001b[39;49m(key)\n",
      "File \u001b[1;32mc:\\Users\\smico\\anaconda3\\envs\\iron\\lib\\site-packages\\pandas\\core\\base.py:248\u001b[0m, in \u001b[0;36mSelectionMixin.__getitem__\u001b[1;34m(self, key)\u001b[0m\n\u001b[0;32m    246\u001b[0m \u001b[39melse\u001b[39;00m:\n\u001b[0;32m    247\u001b[0m     \u001b[39mif\u001b[39;00m key \u001b[39mnot\u001b[39;00m \u001b[39min\u001b[39;00m \u001b[39mself\u001b[39m\u001b[39m.\u001b[39mobj:\n\u001b[1;32m--> 248\u001b[0m         \u001b[39mraise\u001b[39;00m \u001b[39mKeyError\u001b[39;00m(\u001b[39mf\u001b[39m\u001b[39m\"\u001b[39m\u001b[39mColumn not found: \u001b[39m\u001b[39m{\u001b[39;00mkey\u001b[39m}\u001b[39;00m\u001b[39m\"\u001b[39m)\n\u001b[0;32m    249\u001b[0m     subset \u001b[39m=\u001b[39m \u001b[39mself\u001b[39m\u001b[39m.\u001b[39mobj[key]\n\u001b[0;32m    250\u001b[0m     ndim \u001b[39m=\u001b[39m subset\u001b[39m.\u001b[39mndim\n",
      "\u001b[1;31mKeyError\u001b[0m: 'Column not found: Total'"
     ]
    }
   ],
   "source": [
    "df_paises_reales_historico['Porcentaje']=sp.porcentaje(df_paises_reales_historico,'Total')\n",
    "df_paises_totales_historico['Porcentaje']=sp.porcentaje(df_paises_totales_historico,'Total')\n",
    "df_paises_reales_historico.sort_values (by='Porcentaje',ascending=False)\n",
    "df_paises_totales_historico.sort_values (by='Porcentaje',ascending=False)"
   ]
  },
  {
   "cell_type": "code",
   "execution_count": 46,
   "metadata": {},
   "outputs": [
    {
     "ename": "KeyError",
     "evalue": "'Column not found: Porcentaje'",
     "output_type": "error",
     "traceback": [
      "\u001b[1;31m---------------------------------------------------------------------------\u001b[0m",
      "\u001b[1;31mKeyError\u001b[0m                                  Traceback (most recent call last)",
      "Cell \u001b[1;32mIn [46], line 1\u001b[0m\n\u001b[1;32m----> 1\u001b[0m df_paises_reales_historico[\u001b[39m'\u001b[39m\u001b[39mNationality_groups\u001b[39m\u001b[39m'\u001b[39m]\u001b[39m=\u001b[39mnp\u001b[39m.\u001b[39mwhere(df_paises_reales_historico[\u001b[39m'\u001b[39;49m\u001b[39mPorcentaje\u001b[39;49m\u001b[39m'\u001b[39;49m]\u001b[39m<\u001b[39m\u001b[39m2\u001b[39m,\u001b[39m'\u001b[39m\u001b[39mOTHERS\u001b[39m\u001b[39m'\u001b[39m,df_paises_reales_historico[\u001b[39m'\u001b[39m\u001b[39mNationality\u001b[39m\u001b[39m'\u001b[39m])\n\u001b[0;32m      2\u001b[0m df_paises_totales_historico[\u001b[39m'\u001b[39m\u001b[39mNationality_groups\u001b[39m\u001b[39m'\u001b[39m]\u001b[39m=\u001b[39mnp\u001b[39m.\u001b[39mwhere(df_paises_totales_historico[\u001b[39m'\u001b[39m\u001b[39mPorcentaje\u001b[39m\u001b[39m'\u001b[39m]\u001b[39m<\u001b[39m\u001b[39m2\u001b[39m,\u001b[39m'\u001b[39m\u001b[39mOTHERS\u001b[39m\u001b[39m'\u001b[39m,df_paises_totales_historico[\u001b[39m'\u001b[39m\u001b[39mNationality\u001b[39m\u001b[39m'\u001b[39m])\n\u001b[0;32m      3\u001b[0m df_paises_totales_historico\n",
      "File \u001b[1;32mc:\\Users\\smico\\anaconda3\\envs\\iron\\lib\\site-packages\\pandas\\core\\groupby\\generic.py:1415\u001b[0m, in \u001b[0;36mDataFrameGroupBy.__getitem__\u001b[1;34m(self, key)\u001b[0m\n\u001b[0;32m   1406\u001b[0m \u001b[39mif\u001b[39;00m \u001b[39misinstance\u001b[39m(key, \u001b[39mtuple\u001b[39m) \u001b[39mand\u001b[39;00m \u001b[39mlen\u001b[39m(key) \u001b[39m>\u001b[39m \u001b[39m1\u001b[39m:\n\u001b[0;32m   1407\u001b[0m     \u001b[39m# if len == 1, then it becomes a SeriesGroupBy and this is actually\u001b[39;00m\n\u001b[0;32m   1408\u001b[0m     \u001b[39m# valid syntax, so don't raise warning\u001b[39;00m\n\u001b[0;32m   1409\u001b[0m     warnings\u001b[39m.\u001b[39mwarn(\n\u001b[0;32m   1410\u001b[0m         \u001b[39m\"\u001b[39m\u001b[39mIndexing with multiple keys (implicitly converted to a tuple \u001b[39m\u001b[39m\"\u001b[39m\n\u001b[0;32m   1411\u001b[0m         \u001b[39m\"\u001b[39m\u001b[39mof keys) will be deprecated, use a list instead.\u001b[39m\u001b[39m\"\u001b[39m,\n\u001b[0;32m   1412\u001b[0m         \u001b[39mFutureWarning\u001b[39;00m,\n\u001b[0;32m   1413\u001b[0m         stacklevel\u001b[39m=\u001b[39mfind_stack_level(),\n\u001b[0;32m   1414\u001b[0m     )\n\u001b[1;32m-> 1415\u001b[0m \u001b[39mreturn\u001b[39;00m \u001b[39msuper\u001b[39;49m()\u001b[39m.\u001b[39;49m\u001b[39m__getitem__\u001b[39;49m(key)\n",
      "File \u001b[1;32mc:\\Users\\smico\\anaconda3\\envs\\iron\\lib\\site-packages\\pandas\\core\\base.py:248\u001b[0m, in \u001b[0;36mSelectionMixin.__getitem__\u001b[1;34m(self, key)\u001b[0m\n\u001b[0;32m    246\u001b[0m \u001b[39melse\u001b[39;00m:\n\u001b[0;32m    247\u001b[0m     \u001b[39mif\u001b[39;00m key \u001b[39mnot\u001b[39;00m \u001b[39min\u001b[39;00m \u001b[39mself\u001b[39m\u001b[39m.\u001b[39mobj:\n\u001b[1;32m--> 248\u001b[0m         \u001b[39mraise\u001b[39;00m \u001b[39mKeyError\u001b[39;00m(\u001b[39mf\u001b[39m\u001b[39m\"\u001b[39m\u001b[39mColumn not found: \u001b[39m\u001b[39m{\u001b[39;00mkey\u001b[39m}\u001b[39;00m\u001b[39m\"\u001b[39m)\n\u001b[0;32m    249\u001b[0m     subset \u001b[39m=\u001b[39m \u001b[39mself\u001b[39m\u001b[39m.\u001b[39mobj[key]\n\u001b[0;32m    250\u001b[0m     ndim \u001b[39m=\u001b[39m subset\u001b[39m.\u001b[39mndim\n",
      "\u001b[1;31mKeyError\u001b[0m: 'Column not found: Porcentaje'"
     ]
    }
   ],
   "source": [
    "df_paises_reales_historico['Nationality_groups']=np.where(df_paises_reales_historico['Porcentaje']<2,'OTHERS',df_paises_reales_historico['Nationality'])\n",
    "df_paises_totales_historico['Nationality_groups']=np.where(df_paises_totales_historico['Porcentaje']<2,'OTHERS',df_paises_totales_historico['Nationality'])\n",
    "df_paises_totales_historico"
   ]
  },
  {
   "cell_type": "code",
   "execution_count": null,
   "metadata": {},
   "outputs": [],
   "source": [
    "\n",
    "\n",
    "df_paises_reales_historico = pd.DataFrame(df_paises_reales_historico.groupby(['Nationality_groups'])\n",
    "                      ['Porcentaje','Total'].sum()).reset_index()\n",
    "\n",
    "df_paises_totales_historico = pd.DataFrame(df_paises_totales_historico.groupby(['Nationality_groups'])\n",
    "                      ['Porcentaje','Total'].sum()).reset_index()\n",
    "\n",
    "df_paises_reales_historico.sort_values(by='Porcentaje',ascending=False)\n",
    "df_paises_totales_historico.sort_values(by='Porcentaje',ascending=False)"
   ]
  },
  {
   "cell_type": "code",
   "execution_count": null,
   "metadata": {},
   "outputs": [],
   "source": [
    "\"\"\"age_groups = df_edad.groupby(['Age_Group','Gender']).size().reset_index(name='Total')\n",
    "gender_groups=pd.DataFrame(df_edad.groupby(['Gender'])['Name'].count()).reset_index()\n",
    "gender_groups.rename({'Name': 'Total'}, axis=1, inplace=True)\n",
    "\n",
    "gender_groups['Porcentaje']=(gender_groups['Total'] /gender_groups['Total'].sum())\n",
    "gender_groups[\"Porcentaje\"] = gender_groups[\"Porcentaje\"].apply(lambda x: format(x, '.0%'))\n",
    "\n",
    "gender_groups\"\"\""
   ]
  },
  {
   "cell_type": "code",
   "execution_count": null,
   "metadata": {},
   "outputs": [],
   "source": [
    "counts = df['Identificador'].value_counts()\n",
    "\n",
    "# Iterar sobre cada elemento de la columna \"Identificador\"\n",
    "for i, elemento in df['Identificador'].iteritems():\n",
    "    # Comprobar si el elemento en la columna \"Veteran\" es nulo\n",
    "    if pd.isnull(df.loc[i, 'Veteran']):\n",
    "        # Comprobar si el elemento aparece más de una vez\n",
    "        if counts[elemento] > 1:\n",
    "            # Asignar 'Yes' a la columna \"Veteran\"\n",
    "            df.loc[i, 'Veteran'] = 'Yes'\n",
    "        else:\n",
    "            # Asignar 'No' a la columna \"Veteran\"\n",
    "            df.loc[i, 'Veteran'] = 'No'\n",
    "\n",
    "df\n",
    "\n"
   ]
  },
  {
   "cell_type": "code",
   "execution_count": null,
   "metadata": {},
   "outputs": [],
   "source": [
    "\n",
    "nulos= df['Year'].isnull().sum()\n",
    "print(f'Tenemos {nulos} valores nulos en la columna \"Year\"')\n",
    "df_years_na = df.loc[df['Year'].isna()]\n",
    "unique_courses = df_years_na['Course'].unique()\n",
    "print(f'Los valores únicos para \"Course\" en las filas donde \"Year\" es nulo son: {unique_courses}')"
   ]
  },
  {
   "cell_type": "code",
   "execution_count": null,
   "metadata": {},
   "outputs": [],
   "source": [
    "df['Year'] = df['Course'].str.extract(r'(\\d{4})')\n",
    "df\n"
   ]
  },
  {
   "cell_type": "code",
   "execution_count": null,
   "metadata": {},
   "outputs": [],
   "source": [
    "print(df.isnull().sum())"
   ]
  },
  {
   "cell_type": "code",
   "execution_count": null,
   "metadata": {},
   "outputs": [],
   "source": [
    "df_nulos_año=df[df['Year'].isnull() == True]\n",
    "df.to_csv(\"datos/voluntarios_total.csv\",index=False, header=True)"
   ]
  },
  {
   "cell_type": "code",
   "execution_count": null,
   "metadata": {},
   "outputs": [],
   "source": [
    "len(df_nulos_año['Course'].unique())"
   ]
  },
  {
   "cell_type": "code",
   "execution_count": null,
   "metadata": {},
   "outputs": [],
   "source": [
    "\n",
    "df_unicos=df_unicos[['Identificador','Age', 'Birth_Date', 'Gender', 'Nationality']]\n",
    "df_unicos['Age']=df['Age'].astype(int)\n",
    "df_unicos = df.drop_duplicates(subset='Identificador', inplace=False)\n",
    "df_unicos['Birth_Date']=df['Birth_Date'].astype(int)\n",
    "df_edad = df_unicos[[\"Identificador\",\"Age\",\"Nationality\",\"Gender\"]]\n",
    "\n",
    "df_unicos.to_csv(\"datos/voluntarios_unicos.csv\",index=False, header=True)"
   ]
  },
  {
   "cell_type": "code",
   "execution_count": null,
   "metadata": {},
   "outputs": [],
   "source": [
    "age_median = df_edad['Age'].median()\n",
    "\n",
    "sp.graf_barras_2(age_median,'Age_Group', 'Total',age_groups,'Grupo de Edad', 'Total','Grupos de Edad y Género','Gender','Total',gender_groups,'Gender', 'Total', 'Género')\n",
    "\n",
    "\"\"\"for i, bar in enumerate(ax.patches):\n",
    "   ax.text(bar.get_x() + bar.get_width() / 2, bar.get_height()  +1.5,\n",
    "        f\"{gender_groups['Porcentaje'][i]}\",\n",
    "        horizontalalignment= 'center', verticalalignment='bottom',\n",
    "        fontsize=15, rotation=0, color='black')\"\"\""
   ]
  },
  {
   "cell_type": "code",
   "execution_count": null,
   "metadata": {},
   "outputs": [],
   "source": [
    "#hipotesis covid\n",
    "df_años=pd.DataFrame(df.groupby(['Year'])['Identificador'].count()).reset_index()\n",
    "df_años.rename({'Identificador': 'Total'}, axis=1, inplace=True)\n",
    "df_años"
   ]
  },
  {
   "cell_type": "code",
   "execution_count": null,
   "metadata": {},
   "outputs": [],
   "source": [
    "df_años['Year'] = df_años['Year'].astype(int)\n"
   ]
  },
  {
   "cell_type": "code",
   "execution_count": null,
   "metadata": {},
   "outputs": [],
   "source": [
    "bins = [2010, 2019, 2020, df_años['Year'].max()]\n",
    "labels = ['Pre-Covid (2011-2019)', 'Covid (2020)', 'Post-Covid(2020-2022']\n",
    "df_años['Covid_Group'] = pd.cut(df_años['Year'], bins=bins, labels=labels)\n",
    "\n",
    "df_años"
   ]
  },
  {
   "cell_type": "code",
   "execution_count": null,
   "metadata": {},
   "outputs": [],
   "source": [
    "df_años = df_años.dropna(subset=[\"Covid_Group\"])\n",
    "df_años.drop([15], axis=0, inplace=True)\n",
    "df_años.reset_index\n",
    "df_años"
   ]
  },
  {
   "cell_type": "code",
   "execution_count": null,
   "metadata": {},
   "outputs": [],
   "source": [
    "sp.graf_lineal(df_años,'Year','Total','Year','Total Volunteers','Year','COVID Effect',2020)\n",
    "\n",
    "\"\"\"Add text labels\n",
    "plt.text(2013, 8030, 'Pre-Covid', rotation=90,  fontsize=20)\n",
    "plt.text(2021, 8030, 'Post-Covid', rotation=90, fontsize=20)\"\"\""
   ]
  },
  {
   "cell_type": "code",
   "execution_count": null,
   "metadata": {},
   "outputs": [],
   "source": [
    "df_nacionalidad = pd.DataFrame(df_unicos.groupby(['Nationality'])\n",
    "                      [\"Identificador\"].count()).reset_index()\n",
    "\n",
    "df_nacionalidad.rename({'Identificador': 'Numero_personas'}, axis=1, inplace=True)\n",
    "\n",
    "df_nacionalidad['Porcentaje']=sp.porcentaje(df_nacionalidad,'Numero_personas')\n",
    "\n",
    "df_nacionalidad['Nationality_groups']=np.where(df_nacionalidad['Porcentaje']<2,'OTHERS',df_nacionalidad['Nationality'])\n",
    "\n",
    "df_nacionalidad_grupos = pd.DataFrame(df_nacionalidad.groupby(['Nationality_groups'])\n",
    "                      ['Porcentaje','Numero_personas'].sum()).reset_index()\n",
    "\n",
    "df_nacionalidad_grupos.sort_values(by='Porcentaje',ascending=False)\n",
    "\n",
    "df_nacionalidad_grupos"
   ]
  },
  {
   "cell_type": "code",
   "execution_count": null,
   "metadata": {},
   "outputs": [],
   "source": [
    "#Hipotesis2: Más del 50% son americanos\n",
    "\n",
    "df_nacionalidad = pd.DataFrame(df_unicos.groupby(['Nationality'])\n",
    "                      [\"Identificador\"].count()).reset_index()\n",
    "\n",
    "df_nacionalidad.rename({'Identificador': 'Numero_personas'}, axis=1, inplace=True)\n",
    "\n",
    "df_nacionalidad['Porcentaje']=(df_nacionalidad['Numero_personas'] /df_nacionalidad['Numero_personas'].sum())*100\n",
    "\n",
    "\n",
    "\n",
    "df_nacionalidad['Nationality_groups']=np.where(df_nacionalidad['Porcentaje']<2,'OTHERS',df_nacionalidad['Nationality'])\n",
    "print(df_nacionalidad)\n",
    "\n",
    "df_nacionalidad_grupos = pd.DataFrame(df_nacionalidad.groupby(['Nationality_groups'])\n",
    "                      ['Porcentaje','Numero_personas'].sum()).reset_index()\n",
    "\n",
    "df_nacionalidad_grupos.sort_values(by='Porcentaje',ascending=False)"
   ]
  },
  {
   "cell_type": "code",
   "execution_count": null,
   "metadata": {},
   "outputs": [],
   "source": [
    "df_nacionalidad_otros=df_nacionalidad[df_nacionalidad['Nationality_groups']=='OTHERS']\n",
    "df_nacionalidad_otros.sort_values(by='Porcentaje',ascending=False)"
   ]
  },
  {
   "cell_type": "code",
   "execution_count": null,
   "metadata": {},
   "outputs": [],
   "source": [
    "df_nacionalidad_otros['Country']=df_nacionalidad_otros['Nationality'].str.title()\n",
    "df_nacionalidad_otros.head(2)"
   ]
  },
  {
   "cell_type": "code",
   "execution_count": null,
   "metadata": {},
   "outputs": [],
   "source": [
    "df_paises = pd.read_csv('datos/paises.csv')\n",
    "df_paises= df_paises.drop(['ISO_Code','M49_Code', 'Region1', 'Region2'], axis=1)\n",
    "df_paises"
   ]
  },
  {
   "cell_type": "code",
   "execution_count": null,
   "metadata": {},
   "outputs": [],
   "source": [
    "\n",
    "df_nacionalidad_otros=df_nacionalidad_otros.merge(df_paises, how='left', on='Country')\n",
    "df_nacionalidad_otros"
   ]
  },
  {
   "cell_type": "code",
   "execution_count": null,
   "metadata": {},
   "outputs": [],
   "source": [
    "df_nacionalidad_otros= df_nacionalidad_otros.drop(['Nationality_groups'], axis=1)\n",
    "df_nacionalidad_otros"
   ]
  },
  {
   "cell_type": "code",
   "execution_count": null,
   "metadata": {},
   "outputs": [],
   "source": [
    "df_nacionalidad_otros['Continent'].isnull().sum()"
   ]
  },
  {
   "cell_type": "code",
   "execution_count": null,
   "metadata": {},
   "outputs": [],
   "source": [
    "df_nacionalidad_otros_nulos=df_nacionalidad_otros[df_nacionalidad_otros['Continent'].isnull() == True]\n",
    "len(df_nacionalidad_otros_nulos['Nationality'])"
   ]
  },
  {
   "cell_type": "code",
   "execution_count": null,
   "metadata": {},
   "outputs": [],
   "source": [
    "df_nacionalidad_otros_nulos.drop(['Continent'], axis=1, inplace=True)"
   ]
  },
  {
   "cell_type": "code",
   "execution_count": null,
   "metadata": {},
   "outputs": [],
   "source": [
    "from fuzzywuzzy import fuzz\n",
    "\n",
    "# Iterar sobre las filas del dataframe df_nacionalidades\n",
    "for index, row in df_nacionalidad_otros_nulos.iterrows():\n",
    "  pais = row['Country']\n",
    "  max_similarity = 0\n",
    "  match = None\n",
    "  \n",
    "  # Iterar sobre las filas del dataframe df_paises\n",
    "  for index_df_paises, row_df_paises in df_paises.iterrows():\n",
    "    country = row_df_paises['Country']\n",
    "    \n",
    "    # Calcular el parecido entre las dos cadenas de texto\n",
    "    similarity = fuzz.token_set_ratio(pais, country)\n",
    "    \n",
    "    # Si el parecido es mayor que 50 y mayor que el máximo encontrado hasta ahora, actualizar la variable temporal\n",
    "    if similarity > 80 and similarity > max_similarity:\n",
    "      max_similarity = similarity\n",
    "      match = country\n",
    "  \n",
    "  # Si se ha encontrado una coincidencia con parecido mayor que 50, actualizar la columna ciudad_origen en el dataframe df_ciudades\n",
    "  if match is not None:\n",
    "    df_nacionalidad_otros_nulos.loc[index, 'Country'] = match\n",
    "\n",
    "df_nacionalidad_otros_nulos.head(2)"
   ]
  },
  {
   "cell_type": "code",
   "execution_count": null,
   "metadata": {},
   "outputs": [],
   "source": [
    "df_nacionalidad_otros_nulos=df_nacionalidad_otros_nulos.merge(df_paises, how='left', on='Country')\n",
    "\n",
    "df_nacionalidad_otros_nulos.head(2)\n"
   ]
  },
  {
   "cell_type": "code",
   "execution_count": null,
   "metadata": {},
   "outputs": [],
   "source": [
    "df_nacionalidad_otros_nulos['Continent'].isnull().sum()"
   ]
  },
  {
   "cell_type": "code",
   "execution_count": null,
   "metadata": {},
   "outputs": [],
   "source": [
    "df_nacionalidad_otros_nulos2=df_nacionalidad_otros_nulos[df_nacionalidad_otros_nulos['Continent'].isnull() == True]\n",
    "\n",
    "df_nacionalidad_otros_nulos2\n"
   ]
  },
  {
   "cell_type": "code",
   "execution_count": null,
   "metadata": {},
   "outputs": [],
   "source": [
    "pais=df_nacionalidad_otros_nulos2['Country'].tolist()\n",
    "pais_equivalencia=['Other','Other','Other', 'Other', 'Other', 'Czechia', 'Other', 'Other', \"Democratic People's Republic of Korea\", 'Republic of Moldova', 'Other', 'Other', 'Russian Federation', 'Somalia', 'Other', 'Other','Syrian Arab Republic', 'China', 'Other', 'Viet Nam', 'Other']\n",
    "pais_dict={}\n",
    "\n",
    "for key,value in zip(pais,pais_equivalencia):\n",
    "    pais_dict[key]=value\n",
    "\n",
    "print(pais_dict)"
   ]
  },
  {
   "cell_type": "code",
   "execution_count": null,
   "metadata": {},
   "outputs": [],
   "source": [
    "df_nacionalidad_otros_nulos2=df_nacionalidad_otros_nulos2.replace({'Country':pais_dict})\n",
    "\n",
    "df_nacionalidad_otros_nulos2"
   ]
  },
  {
   "cell_type": "code",
   "execution_count": null,
   "metadata": {},
   "outputs": [],
   "source": [
    "df_nacionalidad_otros_nulos2.drop(['Continent'], axis=1, inplace=True)\n",
    "df_nacionalidad_otros_nulos2"
   ]
  },
  {
   "cell_type": "code",
   "execution_count": null,
   "metadata": {},
   "outputs": [],
   "source": [
    "df_nacionalidad_otros_nulos2=df_nacionalidad_otros_nulos2.merge(df_paises[['Country','Continent']],how='left', on='Country')\n",
    "\n",
    "df_nacionalidad_otros_nulos2"
   ]
  },
  {
   "cell_type": "code",
   "execution_count": null,
   "metadata": {},
   "outputs": [],
   "source": [
    "df_nacionalidad_otros_nulos2.isnull().sum()"
   ]
  },
  {
   "cell_type": "code",
   "execution_count": null,
   "metadata": {},
   "outputs": [],
   "source": [
    "len(df_nacionalidad_otros['Country'])"
   ]
  },
  {
   "cell_type": "code",
   "execution_count": null,
   "metadata": {},
   "outputs": [],
   "source": [
    "df_nacionalidad_otros['Continent'].isnull().sum()"
   ]
  },
  {
   "cell_type": "code",
   "execution_count": null,
   "metadata": {},
   "outputs": [],
   "source": [
    "df_nacionalidad_otros=df_nacionalidad_otros.dropna(subset=['Continent'])\n",
    "df_nacionalidad_otros_nulos=df_nacionalidad_otros_nulos.dropna(subset=['Continent'])\n",
    "df_nacionalidad_otros=pd.concat([df_nacionalidad_otros,df_nacionalidad_otros_nulos,df_nacionalidad_otros_nulos2],axis=0)\n",
    "\n",
    "len(df_nacionalidad_otros['Country'])\n",
    "df_nacionalidad_otros['Continent'].isnull().sum()"
   ]
  },
  {
   "cell_type": "code",
   "execution_count": null,
   "metadata": {},
   "outputs": [],
   "source": [
    "df_continente = pd.DataFrame(df_nacionalidad_otros.groupby(['Continent'])\n",
    "                      [\"Numero_personas\"].sum()).reset_index()\n",
    "\n",
    "\n",
    "df_continente['Porcentaje']=(df_continente['Numero_personas'] /df_continente['Numero_personas'].sum())*100\n",
    "\n",
    "\n",
    "df_continente.sort_values(by='Porcentaje',ascending=False)"
   ]
  },
  {
   "cell_type": "code",
   "execution_count": null,
   "metadata": {},
   "outputs": [],
   "source": [
    "df_nacionalidad_grupos.sort_values(by=['Porcentaje'])"
   ]
  },
  {
   "cell_type": "code",
   "execution_count": null,
   "metadata": {},
   "outputs": [],
   "source": [
    "plt.figure(figsize=(10, 5))\n",
    "plt.subplots_adjust(wspace=3.5)\n",
    "\n",
    "explode = (0.1, 0.1, 0.1, 0.4, 0.1, 0.3, 0.1)\n",
    "explode2=(0.1, 0.4, 0.2, 0.1, 0.3, 0.5, 0.1)\n",
    "\n",
    "plt.subplot(1, 2, 1)\n",
    "plt.pie(df_nacionalidad_grupos['Porcentaje'], \n",
    "    labels = df_nacionalidad_grupos['Nationality_groups'], \n",
    "    autopct = '%1.1f%%', \n",
    "    radius=3,\n",
    "    explode=explode\n",
    ")\n",
    "plt.legend(bbox_to_anchor = (-1, 3))\n",
    "plt.title(\"Países que representan más de un 2%\", y=2.5)\n",
    "\n",
    "plt.subplot(1, 2, 2)\n",
    "plt.pie(df_continente['Porcentaje'], \n",
    "    labels = df_continente['Continent'], \n",
    "    autopct = '%1.1f%%', \n",
    "    radius=3,\n",
    "    explode=explode2\n",
    ")\n",
    "plt.legend(bbox_to_anchor = (3, 3))\n",
    "plt.title(\"Distribución por continente del resto\", y=2.5)\n"
   ]
  },
  {
   "cell_type": "code",
   "execution_count": null,
   "metadata": {},
   "outputs": [],
   "source": [
    "df_veterans=df.groupby(['Identificador'])['Course'].count().reset_index()\n",
    "print(df_veterans['Course'].sum())\n",
    "\n",
    "df_veterans.rename({'Course':'Repeat'},axis=1,inplace=True)\n",
    "df_veterans\n"
   ]
  },
  {
   "cell_type": "code",
   "execution_count": null,
   "metadata": {},
   "outputs": [],
   "source": [
    "bins = [0, 1, 5, 10, df_veterans['Repeat'].max()]\n",
    "labels = ['1', '2-5', '6-10', '+10']\n",
    "df_veterans['Veterans_Group'] = pd.cut(df_veterans['Repeat'], bins=bins, labels=labels)\n",
    "\n",
    "df_veterans"
   ]
  },
  {
   "cell_type": "code",
   "execution_count": null,
   "metadata": {},
   "outputs": [],
   "source": [
    "df_veteran_group= df_veterans.groupby(['Veterans_Group']).count().reset_index()\n",
    "df_veteran_group['Porcentaje']= (df_veteran_group['Repeat']/df_veteran_group['Repeat'].sum())\n",
    "df_veteran_group[\"Porcentaje\"] = df_veteran_group[\"Porcentaje\"].apply(lambda x: format(x, '.0%'))\n",
    "\n",
    "df_veteran_group"
   ]
  },
  {
   "cell_type": "code",
   "execution_count": null,
   "metadata": {},
   "outputs": [],
   "source": [
    "plt.figure(figsize=(10, 5))\n",
    "\n",
    "ax = sns.barplot(x='Veterans_Group', y='Repeat', data=df_veteran_group)\n",
    "ax.spines['right'].set_visible(False)\n",
    "ax.spines['top'].set_visible(False)\n",
    "# Añadir etiquetas y título al gráfico\n",
    "plt.xlabel('Returning volunteers')\n",
    "plt.ylabel('Total')\n",
    "plt.title('Veterans')\n",
    "for i, bar in enumerate(ax.patches):\n",
    "   ax.text(bar.get_x() + bar.get_width() / 2, bar.get_height()  +1.5,\n",
    "        f\"{df_veteran_group['Porcentaje'][i]}\",\n",
    "        horizontalalignment= 'center', verticalalignment='bottom',\n",
    "        fontsize=15, rotation=0, color='black')\n",
    "\n",
    "# Mostrar el gráfico\n",
    "plt.show()"
   ]
  },
  {
   "cell_type": "code",
   "execution_count": null,
   "metadata": {},
   "outputs": [],
   "source": [
    "df.dtypes\n",
    "df['Year'] = df['Year'].astype(int)\n",
    "\n",
    "df_2021 = df[df['Year'] == 2021].copy()\n",
    "df_2021\n"
   ]
  },
  {
   "cell_type": "code",
   "execution_count": null,
   "metadata": {},
   "outputs": [],
   "source": [
    "import re\n",
    "\n",
    "# Crear una expresión regular para buscar \"TEENS\" o \"TEEN\"\n",
    "pattern = re.compile(\"TEENS|TEEN\", re.IGNORECASE)\n",
    "\n",
    "# Seleccionar las filas donde la columna \"Course\" contiene el patrón\n",
    "df_teens_2021 = df_2021[df_2021['Course'].str.contains(pattern)]\n",
    "df_teens_2021"
   ]
  },
  {
   "cell_type": "code",
   "execution_count": null,
   "metadata": {},
   "outputs": [],
   "source": [
    "cursos=df_teens_2021[\"Course\"].unique()\n",
    "\n",
    "serie_cursos = pd.Series(cursos).reset_index(drop=True)\n",
    "serie_cursos"
   ]
  },
  {
   "cell_type": "code",
   "execution_count": null,
   "metadata": {},
   "outputs": [],
   "source": [
    "serie_cursos.drop([6], axis=0, inplace=True)\n",
    "serie_cursos"
   ]
  },
  {
   "cell_type": "code",
   "execution_count": null,
   "metadata": {},
   "outputs": [],
   "source": [
    "serie_cursos=sp.dividir_serie(serie_cursos)"
   ]
  },
  {
   "cell_type": "code",
   "execution_count": null,
   "metadata": {},
   "outputs": [],
   "source": [
    "serie_cursos.to_csv(\"datos/cursos_teens.csv\",index=False, header=True)"
   ]
  }
 ],
 "metadata": {
  "kernelspec": {
   "display_name": "iron",
   "language": "python",
   "name": "python3"
  },
  "language_info": {
   "codemirror_mode": {
    "name": "ipython",
    "version": 3
   },
   "file_extension": ".py",
   "mimetype": "text/x-python",
   "name": "python",
   "nbconvert_exporter": "python",
   "pygments_lexer": "ipython3",
   "version": "3.9.13 (main, Oct 13 2022, 21:23:06) [MSC v.1916 64 bit (AMD64)]"
  },
  "orig_nbformat": 4,
  "vscode": {
   "interpreter": {
    "hash": "9a663b74384d2f44897fdded7e66d2264ff63e4137a495a11087e8697bb143f9"
   }
  }
 },
 "nbformat": 4,
 "nbformat_minor": 2
}
